{
 "cells": [
  {
   "cell_type": "markdown",
   "metadata": {},
   "source": [
    "## Сколько нужно таксистов?"
   ]
  },
  {
   "cell_type": "markdown",
   "metadata": {},
   "source": [
    "### Оглавление\n",
    "[1. План проекта](#section1)\\\n",
    "[2. Знакомство с данными и их подготовка](#section2)\\\n",
    "[3. Обучение моделей и проверка на тестовой выборке](#section3)\\\n",
    "[4. Общий вывод](#section4)"
   ]
  },
  {
   "cell_type": "markdown",
   "metadata": {},
   "source": [
    "<a id='section1'></a>\n",
    "### 1.План проекта\n",
    "- загрузим данные и выполним их ресемплирование по одному часу\n",
    "- проанализируем данные\n",
    "- обучим разные модели с различными гиперпараметрами\n",
    "- проверим данные на тестовой выборке и сделаем выводы"
   ]
  },
  {
   "cell_type": "markdown",
   "metadata": {},
   "source": [
    "<a id='section2'></a>\n",
    "### 2. Знакомство с данными и их подготовка"
   ]
  },
  {
   "cell_type": "code",
   "execution_count": 1,
   "metadata": {},
   "outputs": [],
   "source": [
    "import pandas as pd\n",
    "import seaborn as sns\n",
    "import matplotlib.pyplot as plt\n",
    "from statsmodels.tsa.seasonal import seasonal_decompose\n",
    "import statsmodels.api as sm\n",
    "import statsmodels.tsa.api as smt\n",
    "from sklearn.model_selection import train_test_split\n",
    "from sklearn.linear_model import LinearRegression\n",
    "from sklearn.preprocessing import OneHotEncoder\n",
    "from sklearn.preprocessing import StandardScaler\n",
    "from sklearn.metrics import mean_squared_error\n",
    "from catboost import CatBoostRegressor\n",
    "from xgboost import XGBRegressor\n",
    "from sklearn.model_selection import TimeSeriesSplit, GridSearchCV\n",
    "import warnings\n",
    "warnings.filterwarnings('ignore')"
   ]
  },
  {
   "cell_type": "code",
   "execution_count": 2,
   "metadata": {},
   "outputs": [],
   "source": [
    "df = pd.read_csv('F:/DS/Задачи Практикум/Projects/3 блок/Временные ряды/taxi.csv',\n",
    "                 parse_dates = [0], index_col = [0])"
   ]
  },
  {
   "cell_type": "code",
   "execution_count": 3,
   "metadata": {},
   "outputs": [
    {
     "data": {
      "text/html": [
       "<div>\n",
       "<style scoped>\n",
       "    .dataframe tbody tr th:only-of-type {\n",
       "        vertical-align: middle;\n",
       "    }\n",
       "\n",
       "    .dataframe tbody tr th {\n",
       "        vertical-align: top;\n",
       "    }\n",
       "\n",
       "    .dataframe thead th {\n",
       "        text-align: right;\n",
       "    }\n",
       "</style>\n",
       "<table border=\"1\" class=\"dataframe\">\n",
       "  <thead>\n",
       "    <tr style=\"text-align: right;\">\n",
       "      <th></th>\n",
       "      <th>num_orders</th>\n",
       "    </tr>\n",
       "    <tr>\n",
       "      <th>datetime</th>\n",
       "      <th></th>\n",
       "    </tr>\n",
       "  </thead>\n",
       "  <tbody>\n",
       "    <tr>\n",
       "      <th>2018-03-01 00:00:00</th>\n",
       "      <td>9</td>\n",
       "    </tr>\n",
       "    <tr>\n",
       "      <th>2018-03-01 00:10:00</th>\n",
       "      <td>14</td>\n",
       "    </tr>\n",
       "    <tr>\n",
       "      <th>2018-03-01 00:20:00</th>\n",
       "      <td>28</td>\n",
       "    </tr>\n",
       "    <tr>\n",
       "      <th>2018-03-01 00:30:00</th>\n",
       "      <td>20</td>\n",
       "    </tr>\n",
       "    <tr>\n",
       "      <th>2018-03-01 00:40:00</th>\n",
       "      <td>32</td>\n",
       "    </tr>\n",
       "    <tr>\n",
       "      <th>2018-03-01 00:50:00</th>\n",
       "      <td>21</td>\n",
       "    </tr>\n",
       "    <tr>\n",
       "      <th>2018-03-01 01:00:00</th>\n",
       "      <td>7</td>\n",
       "    </tr>\n",
       "    <tr>\n",
       "      <th>2018-03-01 01:10:00</th>\n",
       "      <td>5</td>\n",
       "    </tr>\n",
       "    <tr>\n",
       "      <th>2018-03-01 01:20:00</th>\n",
       "      <td>17</td>\n",
       "    </tr>\n",
       "    <tr>\n",
       "      <th>2018-03-01 01:30:00</th>\n",
       "      <td>12</td>\n",
       "    </tr>\n",
       "  </tbody>\n",
       "</table>\n",
       "</div>"
      ],
      "text/plain": [
       "                     num_orders\n",
       "datetime                       \n",
       "2018-03-01 00:00:00           9\n",
       "2018-03-01 00:10:00          14\n",
       "2018-03-01 00:20:00          28\n",
       "2018-03-01 00:30:00          20\n",
       "2018-03-01 00:40:00          32\n",
       "2018-03-01 00:50:00          21\n",
       "2018-03-01 01:00:00           7\n",
       "2018-03-01 01:10:00           5\n",
       "2018-03-01 01:20:00          17\n",
       "2018-03-01 01:30:00          12"
      ]
     },
     "execution_count": 3,
     "metadata": {},
     "output_type": "execute_result"
    }
   ],
   "source": [
    "df.head(10)"
   ]
  },
  {
   "cell_type": "markdown",
   "metadata": {},
   "source": [
    "Проверим, отстортированы ли даты."
   ]
  },
  {
   "cell_type": "code",
   "execution_count": 4,
   "metadata": {},
   "outputs": [
    {
     "data": {
      "text/plain": [
       "True"
      ]
     },
     "execution_count": 4,
     "metadata": {},
     "output_type": "execute_result"
    }
   ],
   "source": [
    "df.index.is_monotonic"
   ]
  },
  {
   "cell_type": "code",
   "execution_count": 5,
   "metadata": {},
   "outputs": [
    {
     "name": "stdout",
     "output_type": "stream",
     "text": [
      "<class 'pandas.core.frame.DataFrame'>\n",
      "DatetimeIndex: 26496 entries, 2018-03-01 00:00:00 to 2018-08-31 23:50:00\n",
      "Data columns (total 1 columns):\n",
      " #   Column      Non-Null Count  Dtype\n",
      "---  ------      --------------  -----\n",
      " 0   num_orders  26496 non-null  int64\n",
      "dtypes: int64(1)\n",
      "memory usage: 414.0 KB\n"
     ]
    }
   ],
   "source": [
    "df.info()"
   ]
  },
  {
   "cell_type": "markdown",
   "metadata": {},
   "source": [
    "Итак, у нас около 26 тыс. наблюдений с марта по август 2018 с интервалом в 10 минут. Семплируем ряд по часу."
   ]
  },
  {
   "cell_type": "code",
   "execution_count": 6,
   "metadata": {},
   "outputs": [],
   "source": [
    "df = df.resample('1H').sum()"
   ]
  },
  {
   "cell_type": "markdown",
   "metadata": {},
   "source": [
    "Разделим выборку на:\n",
    "   - тренировочную\n",
    "   - тестовую\n",
    "   \n",
    "Не забывая, что при разбиении временных рядов данные тасовать нельзя."
   ]
  },
  {
   "cell_type": "code",
   "execution_count": 7,
   "metadata": {},
   "outputs": [],
   "source": [
    "train, test = train_test_split(df, shuffle = False, test_size = 0.1)"
   ]
  },
  {
   "cell_type": "markdown",
   "metadata": {},
   "source": [
    "Проверим разбиение."
   ]
  },
  {
   "cell_type": "code",
   "execution_count": 8,
   "metadata": {},
   "outputs": [
    {
     "name": "stdout",
     "output_type": "stream",
     "text": [
      "2018-03-01 00:00:00\n",
      "2018-08-13 13:00:00\n",
      "2018-08-13 14:00:00\n",
      "2018-08-31 23:00:00\n"
     ]
    }
   ],
   "source": [
    "for i in [train, test]:\n",
    "    print(i.index.min())\n",
    "    print(i.index.max())"
   ]
  },
  {
   "cell_type": "markdown",
   "metadata": {},
   "source": [
    "Отложим в сторону сформированный тест и поанализируем трейн.\\\n",
    "Посмотрим, как распределены значения ряда."
   ]
  },
  {
   "cell_type": "code",
   "execution_count": 9,
   "metadata": {},
   "outputs": [
    {
     "data": {
      "text/plain": [
       "Text(0.5, 1.0, 'Распределение заказов такси')"
      ]
     },
     "execution_count": 9,
     "metadata": {},
     "output_type": "execute_result"
    },
    {
     "data": {
      "image/png": "[encoded data removed]",
      "text/plain": [
       "<Figure size 432x288 with 1 Axes>"
      ]
     },
     "metadata": {
      "needs_background": "light"
     },
     "output_type": "display_data"
    }
   ],
   "source": [
    "train.hist()\n",
    "plt.title('Распределение заказов такси')"
   ]
  },
  {
   "cell_type": "code",
   "execution_count": 10,
   "metadata": {},
   "outputs": [
    {
     "data": {
      "text/plain": [
       "Text(0.5, 1.0, 'Распределение заказов такси')"
      ]
     },
     "execution_count": 10,
     "metadata": {},
     "output_type": "execute_result"
    },
    {
     "data": {
      "image/png": "[encoded data removed]",
      "text/plain": [
       "<Figure size 432x288 with 1 Axes>"
      ]
     },
     "metadata": {
      "needs_background": "light"
     },
     "output_type": "display_data"
    }
   ],
   "source": [
    "train.boxplot()\n",
    "plt.title('Распределение заказов такси')"
   ]
  },
  {
   "cell_type": "code",
   "execution_count": 11,
   "metadata": {},
   "outputs": [
    {
     "data": {
      "text/html": [
       "<div>\n",
       "<style scoped>\n",
       "    .dataframe tbody tr th:only-of-type {\n",
       "        vertical-align: middle;\n",
       "    }\n",
       "\n",
       "    .dataframe tbody tr th {\n",
       "        vertical-align: top;\n",
       "    }\n",
       "\n",
       "    .dataframe thead th {\n",
       "        text-align: right;\n",
       "    }\n",
       "</style>\n",
       "<table border=\"1\" class=\"dataframe\">\n",
       "  <thead>\n",
       "    <tr style=\"text-align: right;\">\n",
       "      <th></th>\n",
       "      <th>num_orders</th>\n",
       "    </tr>\n",
       "  </thead>\n",
       "  <tbody>\n",
       "    <tr>\n",
       "      <th>count</th>\n",
       "      <td>3974.000000</td>\n",
       "    </tr>\n",
       "    <tr>\n",
       "      <th>mean</th>\n",
       "      <td>78.290639</td>\n",
       "    </tr>\n",
       "    <tr>\n",
       "      <th>std</th>\n",
       "      <td>38.671812</td>\n",
       "    </tr>\n",
       "    <tr>\n",
       "      <th>min</th>\n",
       "      <td>0.000000</td>\n",
       "    </tr>\n",
       "    <tr>\n",
       "      <th>25%</th>\n",
       "      <td>52.000000</td>\n",
       "    </tr>\n",
       "    <tr>\n",
       "      <th>50%</th>\n",
       "      <td>75.000000</td>\n",
       "    </tr>\n",
       "    <tr>\n",
       "      <th>75%</th>\n",
       "      <td>101.000000</td>\n",
       "    </tr>\n",
       "    <tr>\n",
       "      <th>max</th>\n",
       "      <td>437.000000</td>\n",
       "    </tr>\n",
       "  </tbody>\n",
       "</table>\n",
       "</div>"
      ],
      "text/plain": [
       "        num_orders\n",
       "count  3974.000000\n",
       "mean     78.290639\n",
       "std      38.671812\n",
       "min       0.000000\n",
       "25%      52.000000\n",
       "50%      75.000000\n",
       "75%     101.000000\n",
       "max     437.000000"
      ]
     },
     "execution_count": 11,
     "metadata": {},
     "output_type": "execute_result"
    }
   ],
   "source": [
    "train.describe()"
   ]
  },
  {
   "cell_type": "markdown",
   "metadata": {},
   "source": [
    "Видим, что у распределения есть большой правый хвост, есть много крупных выбросов."
   ]
  },
  {
   "cell_type": "markdown",
   "metadata": {},
   "source": [
    "Посмотрим, как выглядит временной ряд."
   ]
  },
  {
   "cell_type": "code",
   "execution_count": 12,
   "metadata": {},
   "outputs": [
    {
     "data": {
      "text/plain": [
       "Text(0.5, 1.0, 'Количество заказов такси')"
      ]
     },
     "execution_count": 12,
     "metadata": {},
     "output_type": "execute_result"
    },
    {
     "data": {
      "image/png": "[encoded data removed]",
      "text/plain": [
       "<Figure size 432x288 with 1 Axes>"
      ]
     },
     "metadata": {
      "needs_background": "light"
     },
     "output_type": "display_data"
    }
   ],
   "source": [
    "train.plot()\n",
    "plt.title('Количество заказов такси')"
   ]
  },
  {
   "cell_type": "markdown",
   "metadata": {},
   "source": [
    "Все смешалось. Декомпозируем временной ряд."
   ]
  },
  {
   "cell_type": "code",
   "execution_count": 13,
   "metadata": {},
   "outputs": [
    {
     "data": {
      "image/png": "[encoded data removed]",
      "text/plain": [
       "<Figure size 576x1152 with 3 Axes>"
      ]
     },
     "metadata": {
      "needs_background": "light"
     },
     "output_type": "display_data"
    }
   ],
   "source": [
    "decomposed = seasonal_decompose(train['num_orders'])\n",
    "plt.figure(figsize=(8, 16))\n",
    "plt.subplot(311)\n",
    "decomposed.trend.plot(ax=plt.gca())\n",
    "plt.title('Trend')\n",
    "plt.subplot(312)\n",
    "decomposed.seasonal.plot(ax = plt.gca())\n",
    "plt.title('Seasonality')\n",
    "plt.subplot(313)\n",
    "decomposed.resid.plot(ax = plt.gca())\n",
    "plt.title('Residuals')\n",
    "plt.tight_layout()"
   ]
  },
  {
   "cell_type": "markdown",
   "metadata": {},
   "source": [
    "Мы видим, что ряд:\n",
    "- скорее всего, имеет тренд\n",
    "- имеет сезонность в рамках месяца (мб зависимость от дня недели, часа, дня месяца)\n",
    "- выбросы, которые мы обнаружили, являются шумом"
   ]
  },
  {
   "cell_type": "markdown",
   "metadata": {},
   "source": [
    "Дополнительно изучим, какую сезонность имеем."
   ]
  },
  {
   "cell_type": "code",
   "execution_count": 14,
   "metadata": {},
   "outputs": [
    {
     "data": {
      "text/plain": [
       "Text(0.5, 1.0, 'Сезонность 1 декады месяца')"
      ]
     },
     "execution_count": 14,
     "metadata": {},
     "output_type": "execute_result"
    },
    {
     "data": {
      "image/png": "[encoded data removed]",
      "text/plain": [
       "<Figure size 432x288 with 1 Axes>"
      ]
     },
     "metadata": {
      "needs_background": "light"
     },
     "output_type": "display_data"
    }
   ],
   "source": [
    "decomposed.seasonal['2018-03-01':'2018-03-10'].plot()\n",
    "plt.title('Сезонность 1 декады месяца')"
   ]
  },
  {
   "cell_type": "code",
   "execution_count": 15,
   "metadata": {},
   "outputs": [
    {
     "data": {
      "text/plain": [
       "Text(0.5, 1.0, 'Сезонность 2 декады месяца')"
      ]
     },
     "execution_count": 15,
     "metadata": {},
     "output_type": "execute_result"
    },
    {
     "data": {
      "image/png": "[encoded data removed]",
      "text/plain": [
       "<Figure size 432x288 with 1 Axes>"
      ]
     },
     "metadata": {
      "needs_background": "light"
     },
     "output_type": "display_data"
    }
   ],
   "source": [
    "decomposed.seasonal['2018-03-11':'2018-03-20'].plot()\n",
    "plt.title('Сезонность 2 декады месяца')"
   ]
  },
  {
   "cell_type": "code",
   "execution_count": 16,
   "metadata": {},
   "outputs": [
    {
     "data": {
      "text/plain": [
       "Text(0.5, 1.0, 'Сезонность 3 декады месяца')"
      ]
     },
     "execution_count": 16,
     "metadata": {},
     "output_type": "execute_result"
    },
    {
     "data": {
      "image/png": "[encoded data removed]",
      "text/plain": [
       "<Figure size 432x288 with 1 Axes>"
      ]
     },
     "metadata": {
      "needs_background": "light"
     },
     "output_type": "display_data"
    }
   ],
   "source": [
    "decomposed.seasonal['2018-03-21':'2018-03-31'].plot()\n",
    "plt.title('Сезонность 3 декады месяца')"
   ]
  },
  {
   "cell_type": "markdown",
   "metadata": {},
   "source": [
    "Видим, что скорее всего, сезонность у нас в пределах дня - часовая. Но для надежности создадим и иные календарные фичи, а потом проверим на features_importances, важны ли они.\\\n",
    "Создадим календарные фичи: день месяца, номер недели, день недели, час."
   ]
  },
  {
   "cell_type": "code",
   "execution_count": 17,
   "metadata": {},
   "outputs": [],
   "source": [
    "train_plus = train.copy()\n",
    "train_plus['day'] = train_plus.index.day\n",
    "train_plus['week'] = train_plus.index.week\n",
    "train_plus['dayofweek'] = train_plus.index.dayofweek\n",
    "train_plus['hour'] = train_plus.index.hour\n",
    "for i in ['day', 'week', 'dayofweek', 'hour']:\n",
    "    train_plus[i] = train_plus[i].astype('category')"
   ]
  },
  {
   "cell_type": "markdown",
   "metadata": {},
   "source": [
    "Создадим также фичи типа \"отстающие значения\". Но для начала определим, какие лаги самые важные.\\"
   ]
  },
  {
   "cell_type": "code",
   "execution_count": 18,
   "metadata": {},
   "outputs": [],
   "source": [
    "def tsplot(y, lags=None, figsize=(12, 7), style='bmh'):\n",
    "    \"\"\"\n",
    "        Plot time series, its ACF and PACF, calculate Dickey–Fuller test\n",
    "        \n",
    "        y - timeseries\n",
    "        lags - how many lags to include in ACF, PACF calculation\n",
    "    \"\"\"\n",
    "    if not isinstance(y, pd.Series):\n",
    "        y = pd.Series(y)\n",
    "        \n",
    "    with plt.style.context(style):    \n",
    "        fig = plt.figure(figsize=figsize)\n",
    "        layout = (2, 2)\n",
    "        ts_ax = plt.subplot2grid(layout, (0, 0), colspan=2)\n",
    "        acf_ax = plt.subplot2grid(layout, (1, 0))\n",
    "        pacf_ax = plt.subplot2grid(layout, (1, 1))\n",
    "        \n",
    "        y.plot(ax=ts_ax)\n",
    "        p_value = sm.tsa.stattools.adfuller(y)[1]\n",
    "        ts_ax.set_title('Time Series Analysis Plots\\n Dickey-Fuller: p={0:.5f}'.format(p_value))\n",
    "        smt.graphics.plot_acf(y, lags=lags, ax=acf_ax)\n",
    "        smt.graphics.plot_pacf(y, lags=lags, ax=pacf_ax)\n",
    "        plt.tight_layout()"
   ]
  },
  {
   "cell_type": "code",
   "execution_count": 19,
   "metadata": {},
   "outputs": [
    {
     "data": {
      "image/png": "[encoded data removed]",
      "text/plain": [
       "<Figure size 864x504 with 3 Axes>"
      ]
     },
     "metadata": {
      "needs_background": "light"
     },
     "output_type": "display_data"
    }
   ],
   "source": [
    "tsplot(train_plus['num_orders'], lags=60)"
   ]
  },
  {
   "cell_type": "markdown",
   "metadata": {},
   "source": [
    "Мы имеем дело со стационарным рядом - коэффициент Дикки-Фулера близок к 0.\n",
    "Ряд имеет сезонность, но мы смогли ее выделить автокорреляцией - видим, что сильные лаги кратны 24.\\\n",
    "Возьмем лаги до 25-ого. И окно для скользящей средней = 24."
   ]
  },
  {
   "cell_type": "code",
   "execution_count": 20,
   "metadata": {},
   "outputs": [],
   "source": [
    "for lag in range(1, 25):\n",
    "    train_plus.loc[:, 'lag_{}'.format(lag)] = train_plus['num_orders'].shift(lag)"
   ]
  },
  {
   "cell_type": "code",
   "execution_count": 21,
   "metadata": {},
   "outputs": [],
   "source": [
    "train_plus['mean'] = train_plus['num_orders'].shift(1).rolling(24).mean()"
   ]
  },
  {
   "cell_type": "markdown",
   "metadata": {},
   "source": [
    "Удалим образовавшиеся наблюдения с NaN."
   ]
  },
  {
   "cell_type": "code",
   "execution_count": 22,
   "metadata": {},
   "outputs": [],
   "source": [
    "train_plus = train_plus.dropna()"
   ]
  },
  {
   "cell_type": "markdown",
   "metadata": {},
   "source": [
    "Разделим тренировочную выборку на трейн и таргет."
   ]
  },
  {
   "cell_type": "code",
   "execution_count": 23,
   "metadata": {},
   "outputs": [],
   "source": [
    "features_train = train_plus.drop(['num_orders'], axis = 1)\n",
    "target_train = train_plus['num_orders']"
   ]
  },
  {
   "cell_type": "markdown",
   "metadata": {},
   "source": [
    "Сделаем OHE и масштабируем признаки."
   ]
  },
  {
   "cell_type": "code",
   "execution_count": 24,
   "metadata": {},
   "outputs": [],
   "source": [
    "enc = OneHotEncoder(handle_unknown = 'ignore')\n",
    "features_train_OHE = enc.fit_transform(features_train)\n",
    "features_train_OHE = features_train_OHE.toarray()\n",
    "scaler = StandardScaler()\n",
    "scaler.fit(features_train_OHE)\n",
    "features_train_scaled = scaler.transform(features_train_OHE)"
   ]
  },
  {
   "cell_type": "markdown",
   "metadata": {},
   "source": [
    "<a id='section3'></a>\n",
    "### 3. Обучение моделей и проверка на тестовой выборке"
   ]
  },
  {
   "cell_type": "markdown",
   "metadata": {},
   "source": [
    "Подготовим тестовую выборку - обработаем ее также, как тренировочную.\\\n",
    "Учтем, что при формировании лагов появляются NaN, поэтому приклеим к тесту нижнюю часть трейна, сформируем лаги, а потом удалим строки с NaN."
   ]
  },
  {
   "cell_type": "code",
   "execution_count": 25,
   "metadata": {},
   "outputs": [],
   "source": [
    "test = pd.concat([train['2018-08-12 14:00:00':'2018-08-13 13:00:00'], test], axis = 0)"
   ]
  },
  {
   "cell_type": "code",
   "execution_count": 26,
   "metadata": {},
   "outputs": [],
   "source": [
    "def features_transform(df):\n",
    "    df['day'] = df.index.day\n",
    "    df['week'] = df.index.week\n",
    "    df['dayofweek'] = df.index.dayofweek\n",
    "    df['hour'] = df.index.hour\n",
    "    for i in ['day', 'week', 'dayofweek', 'hour']:\n",
    "        df[i] = df[i].astype('category')\n",
    "    for lag in range(1, 25):\n",
    "        df.loc[:, 'lag_{}'.format(lag)] = df['num_orders'].shift(lag)\n",
    "    df['mean'] = df['num_orders'].shift(1).rolling(24).mean()\n",
    "    df = df.dropna()\n",
    "    features = df.drop(['num_orders'], axis = 1)\n",
    "    target = df['num_orders']\n",
    "    features_OHE = enc.transform(features)\n",
    "    features_OHE = features_OHE.toarray()\n",
    "    features_scaled = scaler.transform(features_OHE)\n",
    "    \n",
    "    return features, features_OHE, features_scaled, target"
   ]
  },
  {
   "cell_type": "code",
   "execution_count": 27,
   "metadata": {},
   "outputs": [],
   "source": [
    "FEAT = features_transform(test)\n",
    "features_test = FEAT[0]\n",
    "features_test_OHE = FEAT[1]\n",
    "features_test_scaled = FEAT[2]\n",
    "target_test = FEAT[3]"
   ]
  },
  {
   "cell_type": "markdown",
   "metadata": {},
   "source": [
    "#### Константная модель"
   ]
  },
  {
   "cell_type": "markdown",
   "metadata": {},
   "source": [
    "Создадим контантную модель, чтобы проверять другие на адекватность.\\\n",
    "Таргеты теста предскажем средним ряда, так как скор-метрика у нас RMSE.\\\n",
    "И посчитаем RMSE."
   ]
  },
  {
   "cell_type": "code",
   "execution_count": 28,
   "metadata": {},
   "outputs": [
    {
     "name": "stdout",
     "output_type": "stream",
     "text": [
      "RMSE константной модели: 84\n"
     ]
    }
   ],
   "source": [
    "predictions_const = pd.Series(target_train.mean(), index = target_test.index)\n",
    "print('RMSE константной модели:', int(mean_squared_error(target_test, predictions_const)**(1/2)))"
   ]
  },
  {
   "cell_type": "markdown",
   "metadata": {},
   "source": [
    "#### Линейная регрессия"
   ]
  },
  {
   "cell_type": "code",
   "execution_count": 29,
   "metadata": {},
   "outputs": [
    {
     "name": "stdout",
     "output_type": "stream",
     "text": [
      "RMSE линейной регрессии: 72\n"
     ]
    }
   ],
   "source": [
    "model_LR = LinearRegression()\n",
    "model_LR.fit(features_train_scaled, target_train)\n",
    "predictions_LR = model_LR.predict(features_test_scaled)\n",
    "print('RMSE линейной регрессии:', int(mean_squared_error(target_test, predictions_LR)**(1/2)))"
   ]
  },
  {
   "cell_type": "markdown",
   "metadata": {},
   "source": [
    "#### CatBoost"
   ]
  },
  {
   "cell_type": "code",
   "execution_count": 30,
   "metadata": {},
   "outputs": [
    {
     "name": "stdout",
     "output_type": "stream",
     "text": [
      "0:\tlearn: 32.7834685\ttotal: 180ms\tremaining: 2m 59s\n",
      "100:\tlearn: 14.0295927\ttotal: 2.46s\tremaining: 21.9s\n",
      "200:\tlearn: 10.2826283\ttotal: 4.74s\tremaining: 18.8s\n",
      "300:\tlearn: 7.6679506\ttotal: 7.13s\tremaining: 16.6s\n",
      "400:\tlearn: 6.0732490\ttotal: 9.44s\tremaining: 14.1s\n",
      "500:\tlearn: 4.7602635\ttotal: 11.8s\tremaining: 11.7s\n",
      "600:\tlearn: 3.7704845\ttotal: 14.1s\tremaining: 9.35s\n",
      "700:\tlearn: 3.1030370\ttotal: 16.4s\tremaining: 7.01s\n",
      "800:\tlearn: 2.5480951\ttotal: 18.7s\tremaining: 4.64s\n",
      "900:\tlearn: 2.1104076\ttotal: 21s\tremaining: 2.31s\n",
      "999:\tlearn: 1.7610539\ttotal: 23.4s\tremaining: 0us\n"
     ]
    }
   ],
   "source": [
    "model_cat = CatBoostRegressor(loss_function = 'RMSE', cat_features = [0,1,2,3], verbose=100, learning_rate = 0.4)\n",
    "model_cat.fit(features_train, target_train)\n",
    "predictions_cat = model_cat.predict(features_test)"
   ]
  },
  {
   "cell_type": "code",
   "execution_count": 31,
   "metadata": {},
   "outputs": [
    {
     "data": {
      "image/png": "[encoded data removed]",
      "text/plain": [
       "<Figure size 720x432 with 1 Axes>"
      ]
     },
     "metadata": {
      "needs_background": "light"
     },
     "output_type": "display_data"
    }
   ],
   "source": [
    "feature_importance = model_cat.feature_importances_\n",
    "feature_imp = pd.DataFrame(sorted(zip(feature_importance, features_train.columns)), columns=['Value','Feature'])\n",
    "plt.figure(figsize = (10, 6))\n",
    "sns.barplot(x=\"Value\", y=\"Feature\", data=feature_imp.sort_values(by=\"Value\", ascending=False))\n",
    "plt.title('Feature importance')\n",
    "plt.tight_layout()\n",
    "plt.show()"
   ]
  },
  {
   "cell_type": "markdown",
   "metadata": {},
   "source": [
    "Занятно - CatBoost выделяет еще недельную сезонность, хотя метод seasonal_decompose ее не выявил."
   ]
  },
  {
   "cell_type": "code",
   "execution_count": 32,
   "metadata": {},
   "outputs": [
    {
     "name": "stdout",
     "output_type": "stream",
     "text": [
      "RMSE Catboost: 41\n"
     ]
    }
   ],
   "source": [
    "print('RMSE Catboost:', int(mean_squared_error(target_test, predictions_cat)**(1/2)))"
   ]
  },
  {
   "cell_type": "markdown",
   "metadata": {},
   "source": [
    "#### XGBRegressor"
   ]
  },
  {
   "cell_type": "code",
   "execution_count": 33,
   "metadata": {},
   "outputs": [
    {
     "data": {
      "text/plain": [
       "GridSearchCV(cv=TimeSeriesSplit(gap=0, max_train_size=None, n_splits=5, test_size=None),\n",
       "             estimator=XGBRegressor(base_score=None, booster=None,\n",
       "                                    colsample_bylevel=None,\n",
       "                                    colsample_bynode=None,\n",
       "                                    colsample_bytree=None, eval_metric='rmse',\n",
       "                                    gamma=None, gpu_id=None,\n",
       "                                    importance_type='gain',\n",
       "                                    interaction_constraints=None,\n",
       "                                    learning_rate=None, max_delta_step=None,\n",
       "                                    max_depth=None, min_child_weight=None,\n",
       "                                    missing=nan, monotone_constraints=None,\n",
       "                                    n_estimators=100, n_jobs=None,\n",
       "                                    num_parallel_tree=None, random_state=None,\n",
       "                                    reg_alpha=None, reg_lambda=None,\n",
       "                                    scale_pos_weight=None, subsample=None,\n",
       "                                    tree_method=None, validate_parameters=None,\n",
       "                                    verbosity=None),\n",
       "             param_grid={'alpha': [0, 0.9], 'eta': [0.1, 0.5], 'gamma': [0, 5],\n",
       "                         'max_depth': [3, 10]})"
      ]
     },
     "execution_count": 33,
     "metadata": {},
     "output_type": "execute_result"
    }
   ],
   "source": [
    "model_xgb = XGBRegressor(eval_metric = 'rmse')\n",
    "param_search = {'eta': [0.1, 0.5],\n",
    "               'gamma': [0, 5],\n",
    "               'max_depth' : [3, 10],\n",
    "               'alpha': [0, 0.9]}\n",
    "tscv = TimeSeriesSplit(n_splits = 5)\n",
    "gsearch = GridSearchCV(estimator=model_xgb, cv=tscv,\n",
    "                        param_grid=param_search)\n",
    "gsearch.fit(features_train_OHE, target_train)"
   ]
  },
  {
   "cell_type": "code",
   "execution_count": 34,
   "metadata": {},
   "outputs": [
    {
     "name": "stdout",
     "output_type": "stream",
     "text": [
      "RMSE XGBoost: 71\n"
     ]
    }
   ],
   "source": [
    "predictions_xgb = gsearch.predict(features_test_OHE)\n",
    "print('RMSE XGBoost:', int(mean_squared_error(target_test, predictions_xgb)**(1/2)))"
   ]
  },
  {
   "cell_type": "markdown",
   "metadata": {},
   "source": [
    "<a id='section4'></a>\n",
    "### 4. Общий вывод\n",
    "\n",
    "Чтобы понять спрос на такси по часам, мы решали задачу прогнозирования временного ряда.\\\n",
    "Выявили, что ряд имеет сезонность - т.е. зависимость спроса от часа дня и от номера недели в месяце.\\\n",
    "Также ряд имеет растущий тренд. Поэтому не использовали случайный лес, так как он плохо прогнозирует тренд.\\\n",
    "Для прогноза мы создавали фичи, т.е. делали feature ingineering. Из них выбирали самые значимые.\\\n",
    "Спрогнозировали спрос с помощью разных моледей машинного обучения.\\\n",
    "При подборе гиперпараметров модели с помощью кросс-валидации учли, что при разбиении датасета на части, их нельзя перемешивать, как при обычной кросс-валидации.\n",
    "\n",
    "Получили вот такие значения скора:\n",
    " - Константная модель: RMSE = 84\n",
    " - Линейная регрессия: RMSE = 72\n",
    " - CatBoost: RMSE = 41\n",
    " - XGBRegressor = 71\n",
    " \n",
    " Лучшее качество при прогнозировании данного ряда дал CatBoost. Предлоджим заказчику использовать данную модель."
   ]
  },
  {
   "cell_type": "code",
   "execution_count": 35,
   "metadata": {},
   "outputs": [
    {
     "data": {
      "text/plain": [
       "Text(0.5, 1.0, 'Сравнение лучшего прогноза (темный) и истинных значений (светлый)')"
      ]
     },
     "execution_count": 35,
     "metadata": {},
     "output_type": "execute_result"
    },
    {
     "data": {
      "image/png": "[encoded data removed]",
      "text/plain": [
       "<Figure size 720x360 with 1 Axes>"
      ]
     },
     "metadata": {
      "needs_background": "light"
     },
     "output_type": "display_data"
    }
   ],
   "source": [
    "plt.figure(figsize = (10, 5))\n",
    "ax = target_test.plot(color = 'blue', alpha = 0.5)\n",
    "pd.Series(predictions_cat, index = list(target_test.index)).plot(ax = ax, color = 'purple')\n",
    "plt.title('Сравнение лучшего прогноза (темный) и истинных значений (светлый)')"
   ]
  }
 ],
 "metadata": {
  "ExecuteTimeLog": [
   {
    "duration": 1882,
    "start_time": "2021-08-28T18:22:39.233Z"
   },
   {
    "duration": 4,
    "start_time": "2021-08-28T18:22:41.117Z"
   },
   {
    "duration": 57,
    "start_time": "2021-08-28T18:22:41.127Z"
   },
   {
    "duration": 15,
    "start_time": "2021-08-28T18:22:41.187Z"
   },
   {
    "duration": 7,
    "start_time": "2021-08-28T18:22:41.204Z"
   },
   {
    "duration": 13,
    "start_time": "2021-08-28T18:22:41.213Z"
   },
   {
    "duration": 15,
    "start_time": "2021-08-28T18:22:41.256Z"
   },
   {
    "duration": 5,
    "start_time": "2021-08-28T18:22:41.274Z"
   },
   {
    "duration": 13,
    "start_time": "2021-08-28T18:22:41.282Z"
   },
   {
    "duration": 426,
    "start_time": "2021-08-28T18:22:41.297Z"
   },
   {
    "duration": 244,
    "start_time": "2021-08-28T18:22:41.725Z"
   },
   {
    "duration": 18,
    "start_time": "2021-08-28T18:22:41.972Z"
   },
   {
    "duration": 490,
    "start_time": "2021-08-28T18:22:41.993Z"
   },
   {
    "duration": 1689,
    "start_time": "2021-08-28T18:22:42.485Z"
   },
   {
    "duration": 333,
    "start_time": "2021-08-28T18:22:44.177Z"
   },
   {
    "duration": 331,
    "start_time": "2021-08-28T18:22:44.513Z"
   },
   {
    "duration": 343,
    "start_time": "2021-08-28T18:22:44.855Z"
   },
   {
    "duration": 16,
    "start_time": "2021-08-28T18:22:45.200Z"
   },
   {
    "duration": 111,
    "start_time": "2021-08-28T18:22:45.218Z"
   },
   {
    "duration": 4068,
    "start_time": "2021-08-28T18:22:45.331Z"
   },
   {
    "duration": 89,
    "start_time": "2021-08-28T18:22:49.402Z"
   },
   {
    "duration": 7,
    "start_time": "2021-08-28T18:22:49.496Z"
   },
   {
    "duration": 13,
    "start_time": "2021-08-28T18:22:49.506Z"
   },
   {
    "duration": 7,
    "start_time": "2021-08-28T18:22:49.522Z"
   },
   {
    "duration": 1204,
    "start_time": "2021-08-28T18:22:49.555Z"
   },
   {
    "duration": 7,
    "start_time": "2021-08-28T18:22:50.761Z"
   },
   {
    "duration": 437,
    "start_time": "2021-08-28T18:22:50.770Z"
   },
   {
    "duration": 156,
    "start_time": "2021-08-28T18:22:51.054Z"
   },
   {
    "duration": 157,
    "start_time": "2021-08-28T18:22:51.055Z"
   },
   {
    "duration": 156,
    "start_time": "2021-08-28T18:22:51.057Z"
   },
   {
    "duration": 155,
    "start_time": "2021-08-28T18:22:51.060Z"
   },
   {
    "duration": 155,
    "start_time": "2021-08-28T18:22:51.061Z"
   },
   {
    "duration": 156,
    "start_time": "2021-08-28T18:22:51.062Z"
   },
   {
    "duration": 154,
    "start_time": "2021-08-28T18:22:51.066Z"
   },
   {
    "duration": 153,
    "start_time": "2021-08-28T18:22:51.068Z"
   },
   {
    "duration": 154,
    "start_time": "2021-08-28T18:22:51.069Z"
   },
   {
    "duration": 581,
    "start_time": "2021-08-28T18:23:07.409Z"
   },
   {
    "duration": 4,
    "start_time": "2021-08-28T18:23:37.347Z"
   },
   {
    "duration": 8,
    "start_time": "2021-08-28T18:23:39.356Z"
   },
   {
    "duration": 40,
    "start_time": "2021-08-28T18:23:45.780Z"
   },
   {
    "duration": 7,
    "start_time": "2021-08-28T18:24:05.811Z"
   },
   {
    "duration": 47,
    "start_time": "2021-08-28T18:24:06.691Z"
   },
   {
    "duration": 51,
    "start_time": "2021-08-28T18:24:07.788Z"
   },
   {
    "duration": 1711,
    "start_time": "2021-08-28T18:24:13.619Z"
   },
   {
    "duration": 4,
    "start_time": "2021-08-28T18:24:15.333Z"
   },
   {
    "duration": 55,
    "start_time": "2021-08-28T18:24:15.344Z"
   },
   {
    "duration": 14,
    "start_time": "2021-08-28T18:24:15.402Z"
   },
   {
    "duration": 19,
    "start_time": "2021-08-28T18:24:15.418Z"
   },
   {
    "duration": 20,
    "start_time": "2021-08-28T18:24:15.440Z"
   },
   {
    "duration": 17,
    "start_time": "2021-08-28T18:24:15.467Z"
   },
   {
    "duration": 6,
    "start_time": "2021-08-28T18:24:15.488Z"
   },
   {
    "duration": 11,
    "start_time": "2021-08-28T18:24:15.497Z"
   },
   {
    "duration": 431,
    "start_time": "2021-08-28T18:24:15.511Z"
   },
   {
    "duration": 238,
    "start_time": "2021-08-28T18:24:15.945Z"
   },
   {
    "duration": 20,
    "start_time": "2021-08-28T18:24:16.186Z"
   },
   {
    "duration": 494,
    "start_time": "2021-08-28T18:24:16.208Z"
   },
   {
    "duration": 1759,
    "start_time": "2021-08-28T18:24:16.704Z"
   },
   {
    "duration": 341,
    "start_time": "2021-08-28T18:24:18.467Z"
   },
   {
    "duration": 339,
    "start_time": "2021-08-28T18:24:18.812Z"
   },
   {
    "duration": 355,
    "start_time": "2021-08-28T18:24:19.154Z"
   },
   {
    "duration": 16,
    "start_time": "2021-08-28T18:24:19.512Z"
   },
   {
    "duration": 108,
    "start_time": "2021-08-28T18:24:19.531Z"
   },
   {
    "duration": 5422,
    "start_time": "2021-08-28T18:24:19.654Z"
   },
   {
    "duration": 83,
    "start_time": "2021-08-28T18:24:25.078Z"
   },
   {
    "duration": 8,
    "start_time": "2021-08-28T18:24:25.169Z"
   },
   {
    "duration": 14,
    "start_time": "2021-08-28T18:24:25.180Z"
   },
   {
    "duration": 6,
    "start_time": "2021-08-28T18:24:25.197Z"
   },
   {
    "duration": 1238,
    "start_time": "2021-08-28T18:24:25.206Z"
   },
   {
    "duration": 9,
    "start_time": "2021-08-28T18:24:26.446Z"
   },
   {
    "duration": 80,
    "start_time": "2021-08-28T18:24:26.458Z"
   },
   {
    "duration": 67,
    "start_time": "2021-08-28T18:24:26.540Z"
   },
   {
    "duration": 3,
    "start_time": "2021-08-28T18:24:26.610Z"
   },
   {
    "duration": 468,
    "start_time": "2021-08-28T18:24:26.615Z"
   },
   {
    "duration": 165,
    "start_time": "2021-08-28T18:24:26.921Z"
   },
   {
    "duration": 157,
    "start_time": "2021-08-28T18:24:26.931Z"
   },
   {
    "duration": 154,
    "start_time": "2021-08-28T18:24:26.935Z"
   },
   {
    "duration": 154,
    "start_time": "2021-08-28T18:24:26.937Z"
   },
   {
    "duration": 153,
    "start_time": "2021-08-28T18:24:26.939Z"
   },
   {
    "duration": 153,
    "start_time": "2021-08-28T18:24:26.941Z"
   },
   {
    "duration": 147,
    "start_time": "2021-08-28T18:24:26.948Z"
   },
   {
    "duration": 14,
    "start_time": "2021-08-28T18:24:36.760Z"
   },
   {
    "duration": 43,
    "start_time": "2021-08-28T18:24:37.478Z"
   },
   {
    "duration": 52,
    "start_time": "2021-08-28T18:24:38.079Z"
   },
   {
    "duration": 7,
    "start_time": "2021-08-28T18:24:54.848Z"
   },
   {
    "duration": 47,
    "start_time": "2021-08-28T18:24:55.535Z"
   },
   {
    "duration": 54,
    "start_time": "2021-08-28T18:24:56.440Z"
   },
   {
    "duration": 265,
    "start_time": "2021-08-28T18:25:05.080Z"
   },
   {
    "duration": 7,
    "start_time": "2021-08-28T18:26:06.768Z"
   },
   {
    "duration": 92,
    "start_time": "2021-08-28T18:26:07.807Z"
   },
   {
    "duration": 262,
    "start_time": "2021-08-28T18:26:10.415Z"
   },
   {
    "duration": 6,
    "start_time": "2021-08-28T18:26:30.593Z"
   },
   {
    "duration": 90,
    "start_time": "2021-08-28T18:26:31.416Z"
   },
   {
    "duration": 1261,
    "start_time": "2021-08-28T18:26:32.343Z"
   },
   {
    "duration": 1727,
    "start_time": "2021-08-28T18:28:27.471Z"
   },
   {
    "duration": 5,
    "start_time": "2021-08-28T18:28:29.201Z"
   },
   {
    "duration": 66,
    "start_time": "2021-08-28T18:28:29.214Z"
   },
   {
    "duration": 13,
    "start_time": "2021-08-28T18:28:29.282Z"
   },
   {
    "duration": 17,
    "start_time": "2021-08-28T18:28:29.297Z"
   },
   {
    "duration": 9,
    "start_time": "2021-08-28T18:28:29.316Z"
   },
   {
    "duration": 36,
    "start_time": "2021-08-28T18:28:29.328Z"
   },
   {
    "duration": 6,
    "start_time": "2021-08-28T18:28:29.370Z"
   },
   {
    "duration": 11,
    "start_time": "2021-08-28T18:28:29.379Z"
   },
   {
    "duration": 519,
    "start_time": "2021-08-28T18:28:29.392Z"
   },
   {
    "duration": 249,
    "start_time": "2021-08-28T18:28:29.914Z"
   },
   {
    "duration": 18,
    "start_time": "2021-08-28T18:28:30.166Z"
   },
   {
    "duration": 495,
    "start_time": "2021-08-28T18:28:30.187Z"
   },
   {
    "duration": 1950,
    "start_time": "2021-08-28T18:28:30.684Z"
   },
   {
    "duration": 347,
    "start_time": "2021-08-28T18:28:32.636Z"
   },
   {
    "duration": 325,
    "start_time": "2021-08-28T18:28:32.985Z"
   },
   {
    "duration": 338,
    "start_time": "2021-08-28T18:28:33.312Z"
   },
   {
    "duration": 22,
    "start_time": "2021-08-28T18:28:33.654Z"
   },
   {
    "duration": 118,
    "start_time": "2021-08-28T18:28:33.678Z"
   },
   {
    "duration": 5969,
    "start_time": "2021-08-28T18:28:33.798Z"
   },
   {
    "duration": 84,
    "start_time": "2021-08-28T18:28:39.770Z"
   },
   {
    "duration": 9,
    "start_time": "2021-08-28T18:28:39.858Z"
   },
   {
    "duration": 13,
    "start_time": "2021-08-28T18:28:39.870Z"
   },
   {
    "duration": 6,
    "start_time": "2021-08-28T18:28:39.886Z"
   },
   {
    "duration": 1235,
    "start_time": "2021-08-28T18:28:39.894Z"
   },
   {
    "duration": 7,
    "start_time": "2021-08-28T18:28:41.134Z"
   },
   {
    "duration": 755,
    "start_time": "2021-08-28T18:28:41.154Z"
   },
   {
    "duration": 165,
    "start_time": "2021-08-28T18:28:41.747Z"
   },
   {
    "duration": 164,
    "start_time": "2021-08-28T18:28:41.749Z"
   },
   {
    "duration": 155,
    "start_time": "2021-08-28T18:28:41.760Z"
   },
   {
    "duration": 154,
    "start_time": "2021-08-28T18:28:41.763Z"
   },
   {
    "duration": 154,
    "start_time": "2021-08-28T18:28:41.764Z"
   },
   {
    "duration": 154,
    "start_time": "2021-08-28T18:28:41.766Z"
   },
   {
    "duration": 153,
    "start_time": "2021-08-28T18:28:41.768Z"
   },
   {
    "duration": 148,
    "start_time": "2021-08-28T18:28:41.774Z"
   },
   {
    "duration": 147,
    "start_time": "2021-08-28T18:28:41.777Z"
   },
   {
    "duration": 562,
    "start_time": "2021-08-28T18:29:05.709Z"
   },
   {
    "duration": 111,
    "start_time": "2021-08-28T18:30:17.341Z"
   },
   {
    "duration": 759,
    "start_time": "2021-08-28T18:30:40.469Z"
   },
   {
    "duration": 1686,
    "start_time": "2021-08-28T18:32:22.406Z"
   },
   {
    "duration": 4,
    "start_time": "2021-08-28T18:32:24.096Z"
   },
   {
    "duration": 67,
    "start_time": "2021-08-28T18:32:24.102Z"
   },
   {
    "duration": 15,
    "start_time": "2021-08-28T18:32:24.172Z"
   },
   {
    "duration": 20,
    "start_time": "2021-08-28T18:32:24.195Z"
   },
   {
    "duration": 22,
    "start_time": "2021-08-28T18:32:24.218Z"
   },
   {
    "duration": 40,
    "start_time": "2021-08-28T18:32:24.242Z"
   },
   {
    "duration": 20,
    "start_time": "2021-08-28T18:32:24.286Z"
   },
   {
    "duration": 26,
    "start_time": "2021-08-28T18:32:24.309Z"
   },
   {
    "duration": 412,
    "start_time": "2021-08-28T18:32:24.337Z"
   },
   {
    "duration": 243,
    "start_time": "2021-08-28T18:32:24.755Z"
   },
   {
    "duration": 18,
    "start_time": "2021-08-28T18:32:25.001Z"
   },
   {
    "duration": 489,
    "start_time": "2021-08-28T18:32:25.022Z"
   },
   {
    "duration": 1767,
    "start_time": "2021-08-28T18:32:25.514Z"
   },
   {
    "duration": 341,
    "start_time": "2021-08-28T18:32:27.284Z"
   },
   {
    "duration": 341,
    "start_time": "2021-08-28T18:32:27.627Z"
   },
   {
    "duration": 345,
    "start_time": "2021-08-28T18:32:27.971Z"
   },
   {
    "duration": 36,
    "start_time": "2021-08-28T18:32:28.319Z"
   },
   {
    "duration": 106,
    "start_time": "2021-08-28T18:32:28.360Z"
   },
   {
    "duration": 5564,
    "start_time": "2021-08-28T18:32:28.469Z"
   },
   {
    "duration": 80,
    "start_time": "2021-08-28T18:32:34.035Z"
   },
   {
    "duration": 8,
    "start_time": "2021-08-28T18:32:34.118Z"
   },
   {
    "duration": 32,
    "start_time": "2021-08-28T18:32:34.129Z"
   },
   {
    "duration": 8,
    "start_time": "2021-08-28T18:32:34.164Z"
   },
   {
    "duration": 1223,
    "start_time": "2021-08-28T18:32:34.174Z"
   },
   {
    "duration": 12,
    "start_time": "2021-08-28T18:32:35.402Z"
   },
   {
    "duration": 6,
    "start_time": "2021-08-28T18:32:35.417Z"
   },
   {
    "duration": 854,
    "start_time": "2021-08-28T18:32:35.426Z"
   },
   {
    "duration": 141,
    "start_time": "2021-08-28T18:32:36.143Z"
   },
   {
    "duration": 139,
    "start_time": "2021-08-28T18:32:36.147Z"
   },
   {
    "duration": 138,
    "start_time": "2021-08-28T18:32:36.149Z"
   },
   {
    "duration": 137,
    "start_time": "2021-08-28T18:32:36.152Z"
   },
   {
    "duration": 135,
    "start_time": "2021-08-28T18:32:36.155Z"
   },
   {
    "duration": 135,
    "start_time": "2021-08-28T18:32:36.157Z"
   },
   {
    "duration": 134,
    "start_time": "2021-08-28T18:32:36.159Z"
   },
   {
    "duration": 134,
    "start_time": "2021-08-28T18:32:36.161Z"
   },
   {
    "duration": 133,
    "start_time": "2021-08-28T18:32:36.163Z"
   },
   {
    "duration": 606,
    "start_time": "2021-08-28T18:39:00.972Z"
   },
   {
    "duration": 9,
    "start_time": "2021-08-28T18:39:32.996Z"
   },
   {
    "duration": 99,
    "start_time": "2021-08-28T18:39:33.828Z"
   },
   {
    "duration": 49,
    "start_time": "2021-08-28T18:43:00.404Z"
   },
   {
    "duration": 7021,
    "start_time": "2021-08-28T18:43:30.429Z"
   },
   {
    "duration": 6448,
    "start_time": "2021-08-28T18:43:42.236Z"
   },
   {
    "duration": 274,
    "start_time": "2021-08-28T18:43:55.261Z"
   },
   {
    "duration": 281,
    "start_time": "2021-08-28T18:44:03.357Z"
   },
   {
    "duration": 270,
    "start_time": "2021-08-28T18:45:05.870Z"
   },
   {
    "duration": 58,
    "start_time": "2021-08-28T18:45:13.724Z"
   },
   {
    "duration": 6,
    "start_time": "2021-08-28T18:45:18.477Z"
   },
   {
    "duration": 6590,
    "start_time": "2021-08-28T18:45:23.389Z"
   },
   {
    "duration": 273,
    "start_time": "2021-08-28T18:45:48.566Z"
   },
   {
    "duration": 52,
    "start_time": "2021-08-28T18:45:56.605Z"
   },
   {
    "duration": 43,
    "start_time": "2021-08-28T18:46:58.719Z"
   },
   {
    "duration": 21,
    "start_time": "2021-08-28T18:47:05.078Z"
   },
   {
    "duration": 44,
    "start_time": "2021-08-28T18:47:14.949Z"
   },
   {
    "duration": 50,
    "start_time": "2021-08-28T18:47:26.943Z"
   },
   {
    "duration": 254,
    "start_time": "2021-08-28T18:47:43.295Z"
   },
   {
    "duration": 286,
    "start_time": "2021-08-28T18:49:04.293Z"
   },
   {
    "duration": 255,
    "start_time": "2021-08-28T18:50:06.013Z"
   },
   {
    "duration": 254,
    "start_time": "2021-08-28T18:50:10.510Z"
   },
   {
    "duration": 259,
    "start_time": "2021-08-28T18:50:21.326Z"
   },
   {
    "duration": 254,
    "start_time": "2021-08-28T18:50:33.494Z"
   },
   {
    "duration": 13,
    "start_time": "2021-08-28T18:51:10.023Z"
   },
   {
    "duration": 43,
    "start_time": "2021-08-28T18:51:19.718Z"
   },
   {
    "duration": 1675,
    "start_time": "2021-08-28T18:51:33.387Z"
   },
   {
    "duration": 3,
    "start_time": "2021-08-28T18:51:35.065Z"
   },
   {
    "duration": 50,
    "start_time": "2021-08-28T18:51:35.075Z"
   },
   {
    "duration": 32,
    "start_time": "2021-08-28T18:51:35.128Z"
   },
   {
    "duration": 9,
    "start_time": "2021-08-28T18:51:35.163Z"
   },
   {
    "duration": 11,
    "start_time": "2021-08-28T18:51:35.174Z"
   },
   {
    "duration": 13,
    "start_time": "2021-08-28T18:51:35.192Z"
   },
   {
    "duration": 51,
    "start_time": "2021-08-28T18:51:35.208Z"
   },
   {
    "duration": 13,
    "start_time": "2021-08-28T18:51:35.261Z"
   },
   {
    "duration": 388,
    "start_time": "2021-08-28T18:51:35.276Z"
   },
   {
    "duration": 228,
    "start_time": "2021-08-28T18:51:35.667Z"
   },
   {
    "duration": 17,
    "start_time": "2021-08-28T18:51:35.898Z"
   },
   {
    "duration": 451,
    "start_time": "2021-08-28T18:51:35.917Z"
   },
   {
    "duration": 1688,
    "start_time": "2021-08-28T18:51:36.371Z"
   },
   {
    "duration": 325,
    "start_time": "2021-08-28T18:51:38.062Z"
   },
   {
    "duration": 333,
    "start_time": "2021-08-28T18:51:38.390Z"
   },
   {
    "duration": 339,
    "start_time": "2021-08-28T18:51:38.726Z"
   },
   {
    "duration": 16,
    "start_time": "2021-08-28T18:51:39.067Z"
   },
   {
    "duration": 116,
    "start_time": "2021-08-28T18:51:39.085Z"
   },
   {
    "duration": 4003,
    "start_time": "2021-08-28T18:51:39.204Z"
   },
   {
    "duration": 80,
    "start_time": "2021-08-28T18:51:43.209Z"
   },
   {
    "duration": 6,
    "start_time": "2021-08-28T18:51:43.294Z"
   },
   {
    "duration": 26,
    "start_time": "2021-08-28T18:51:43.303Z"
   },
   {
    "duration": 12,
    "start_time": "2021-08-28T18:51:43.331Z"
   },
   {
    "duration": 1240,
    "start_time": "2021-08-28T18:51:43.345Z"
   },
   {
    "duration": 16,
    "start_time": "2021-08-28T18:51:44.588Z"
   },
   {
    "duration": 20,
    "start_time": "2021-08-28T18:51:44.607Z"
   },
   {
    "duration": 78,
    "start_time": "2021-08-28T18:51:44.631Z"
   },
   {
    "duration": 7,
    "start_time": "2021-08-28T18:51:44.712Z"
   },
   {
    "duration": 686,
    "start_time": "2021-08-28T18:51:44.721Z"
   },
   {
    "duration": 177,
    "start_time": "2021-08-28T18:51:45.233Z"
   },
   {
    "duration": 175,
    "start_time": "2021-08-28T18:51:45.236Z"
   },
   {
    "duration": 175,
    "start_time": "2021-08-28T18:51:45.237Z"
   },
   {
    "duration": 163,
    "start_time": "2021-08-28T18:51:45.251Z"
   },
   {
    "duration": 162,
    "start_time": "2021-08-28T18:51:45.253Z"
   },
   {
    "duration": 160,
    "start_time": "2021-08-28T18:51:45.256Z"
   },
   {
    "duration": 158,
    "start_time": "2021-08-28T18:51:45.260Z"
   },
   {
    "duration": 157,
    "start_time": "2021-08-28T18:51:45.262Z"
   },
   {
    "duration": 157,
    "start_time": "2021-08-28T18:51:45.264Z"
   },
   {
    "duration": 15,
    "start_time": "2021-08-28T18:52:04.956Z"
   },
   {
    "duration": 43,
    "start_time": "2021-08-28T18:52:05.893Z"
   },
   {
    "duration": 1828,
    "start_time": "2021-08-28T18:52:11.754Z"
   },
   {
    "duration": 3,
    "start_time": "2021-08-28T18:52:13.585Z"
   },
   {
    "duration": 58,
    "start_time": "2021-08-28T18:52:13.590Z"
   },
   {
    "duration": 13,
    "start_time": "2021-08-28T18:52:13.651Z"
   },
   {
    "duration": 13,
    "start_time": "2021-08-28T18:52:13.666Z"
   },
   {
    "duration": 19,
    "start_time": "2021-08-28T18:52:13.681Z"
   },
   {
    "duration": 15,
    "start_time": "2021-08-28T18:52:13.704Z"
   },
   {
    "duration": 5,
    "start_time": "2021-08-28T18:52:13.722Z"
   },
   {
    "duration": 29,
    "start_time": "2021-08-28T18:52:13.730Z"
   },
   {
    "duration": 388,
    "start_time": "2021-08-28T18:52:13.761Z"
   },
   {
    "duration": 224,
    "start_time": "2021-08-28T18:52:14.155Z"
   },
   {
    "duration": 19,
    "start_time": "2021-08-28T18:52:14.382Z"
   },
   {
    "duration": 551,
    "start_time": "2021-08-28T18:52:14.405Z"
   },
   {
    "duration": 1791,
    "start_time": "2021-08-28T18:52:14.959Z"
   },
   {
    "duration": 327,
    "start_time": "2021-08-28T18:52:16.752Z"
   },
   {
    "duration": 328,
    "start_time": "2021-08-28T18:52:17.081Z"
   },
   {
    "duration": 334,
    "start_time": "2021-08-28T18:52:17.412Z"
   },
   {
    "duration": 18,
    "start_time": "2021-08-28T18:52:17.748Z"
   },
   {
    "duration": 106,
    "start_time": "2021-08-28T18:52:17.769Z"
   },
   {
    "duration": 4611,
    "start_time": "2021-08-28T18:52:17.877Z"
   },
   {
    "duration": 78,
    "start_time": "2021-08-28T18:52:22.491Z"
   },
   {
    "duration": 7,
    "start_time": "2021-08-28T18:52:22.573Z"
   },
   {
    "duration": 11,
    "start_time": "2021-08-28T18:52:22.583Z"
   },
   {
    "duration": 6,
    "start_time": "2021-08-28T18:52:22.597Z"
   },
   {
    "duration": 1210,
    "start_time": "2021-08-28T18:52:22.605Z"
   },
   {
    "duration": 12,
    "start_time": "2021-08-28T18:52:23.818Z"
   },
   {
    "duration": 26,
    "start_time": "2021-08-28T18:52:23.832Z"
   },
   {
    "duration": 47,
    "start_time": "2021-08-28T18:52:23.861Z"
   },
   {
    "duration": 7,
    "start_time": "2021-08-28T18:52:23.910Z"
   },
   {
    "duration": 773,
    "start_time": "2021-08-28T18:52:23.919Z"
   },
   {
    "duration": 162,
    "start_time": "2021-08-28T18:52:24.533Z"
   },
   {
    "duration": 163,
    "start_time": "2021-08-28T18:52:24.535Z"
   },
   {
    "duration": 163,
    "start_time": "2021-08-28T18:52:24.537Z"
   },
   {
    "duration": 164,
    "start_time": "2021-08-28T18:52:24.538Z"
   },
   {
    "duration": 165,
    "start_time": "2021-08-28T18:52:24.539Z"
   },
   {
    "duration": 165,
    "start_time": "2021-08-28T18:52:24.541Z"
   },
   {
    "duration": 165,
    "start_time": "2021-08-28T18:52:24.543Z"
   },
   {
    "duration": 162,
    "start_time": "2021-08-28T18:52:24.548Z"
   },
   {
    "duration": 162,
    "start_time": "2021-08-28T18:52:24.550Z"
   },
   {
    "duration": 1751,
    "start_time": "2021-08-28T18:55:01.403Z"
   },
   {
    "duration": 4,
    "start_time": "2021-08-28T18:55:03.158Z"
   },
   {
    "duration": 58,
    "start_time": "2021-08-28T18:55:03.165Z"
   },
   {
    "duration": 14,
    "start_time": "2021-08-28T18:55:03.226Z"
   },
   {
    "duration": 6,
    "start_time": "2021-08-28T18:55:03.243Z"
   },
   {
    "duration": 17,
    "start_time": "2021-08-28T18:55:03.252Z"
   },
   {
    "duration": 15,
    "start_time": "2021-08-28T18:55:03.272Z"
   },
   {
    "duration": 6,
    "start_time": "2021-08-28T18:55:03.289Z"
   },
   {
    "duration": 6,
    "start_time": "2021-08-28T18:55:03.299Z"
   },
   {
    "duration": 543,
    "start_time": "2021-08-28T18:55:03.308Z"
   },
   {
    "duration": 233,
    "start_time": "2021-08-28T18:55:03.855Z"
   },
   {
    "duration": 16,
    "start_time": "2021-08-28T18:55:04.090Z"
   },
   {
    "duration": 491,
    "start_time": "2021-08-28T18:55:04.109Z"
   },
   {
    "duration": 1806,
    "start_time": "2021-08-28T18:55:04.603Z"
   },
   {
    "duration": 337,
    "start_time": "2021-08-28T18:55:06.411Z"
   },
   {
    "duration": 342,
    "start_time": "2021-08-28T18:55:06.751Z"
   },
   {
    "duration": 340,
    "start_time": "2021-08-28T18:55:07.096Z"
   },
   {
    "duration": 35,
    "start_time": "2021-08-28T18:55:07.439Z"
   },
   {
    "duration": 100,
    "start_time": "2021-08-28T18:55:07.477Z"
   },
   {
    "duration": 6099,
    "start_time": "2021-08-28T18:55:07.579Z"
   },
   {
    "duration": 95,
    "start_time": "2021-08-28T18:55:13.682Z"
   },
   {
    "duration": 6,
    "start_time": "2021-08-28T18:55:13.780Z"
   },
   {
    "duration": 13,
    "start_time": "2021-08-28T18:55:13.789Z"
   },
   {
    "duration": 6,
    "start_time": "2021-08-28T18:55:13.805Z"
   },
   {
    "duration": 1243,
    "start_time": "2021-08-28T18:55:13.813Z"
   },
   {
    "duration": 15,
    "start_time": "2021-08-28T18:55:15.059Z"
   },
   {
    "duration": 11,
    "start_time": "2021-08-28T18:55:15.080Z"
   },
   {
    "duration": 78,
    "start_time": "2021-08-28T18:55:15.094Z"
   },
   {
    "duration": 7,
    "start_time": "2021-08-28T18:55:15.174Z"
   },
   {
    "duration": 778,
    "start_time": "2021-08-28T18:55:15.183Z"
   },
   {
    "duration": 169,
    "start_time": "2021-08-28T18:55:15.795Z"
   },
   {
    "duration": 167,
    "start_time": "2021-08-28T18:55:15.798Z"
   },
   {
    "duration": 166,
    "start_time": "2021-08-28T18:55:15.801Z"
   },
   {
    "duration": 160,
    "start_time": "2021-08-28T18:55:15.808Z"
   },
   {
    "duration": 160,
    "start_time": "2021-08-28T18:55:15.810Z"
   },
   {
    "duration": 159,
    "start_time": "2021-08-28T18:55:15.812Z"
   },
   {
    "duration": 160,
    "start_time": "2021-08-28T18:55:15.813Z"
   },
   {
    "duration": 160,
    "start_time": "2021-08-28T18:55:15.814Z"
   },
   {
    "duration": 160,
    "start_time": "2021-08-28T18:55:15.816Z"
   },
   {
    "duration": 1710,
    "start_time": "2021-08-28T18:56:44.097Z"
   },
   {
    "duration": 4,
    "start_time": "2021-08-28T18:56:45.811Z"
   },
   {
    "duration": 60,
    "start_time": "2021-08-28T18:56:45.818Z"
   },
   {
    "duration": 13,
    "start_time": "2021-08-28T18:56:45.881Z"
   },
   {
    "duration": 16,
    "start_time": "2021-08-28T18:56:45.896Z"
   },
   {
    "duration": 18,
    "start_time": "2021-08-28T18:56:45.914Z"
   },
   {
    "duration": 30,
    "start_time": "2021-08-28T18:56:45.935Z"
   },
   {
    "duration": 8,
    "start_time": "2021-08-28T18:56:45.969Z"
   },
   {
    "duration": 14,
    "start_time": "2021-08-28T18:56:45.981Z"
   },
   {
    "duration": 421,
    "start_time": "2021-08-28T18:56:45.998Z"
   },
   {
    "duration": 237,
    "start_time": "2021-08-28T18:56:46.422Z"
   },
   {
    "duration": 18,
    "start_time": "2021-08-28T18:56:46.663Z"
   },
   {
    "duration": 474,
    "start_time": "2021-08-28T18:56:46.683Z"
   },
   {
    "duration": 1890,
    "start_time": "2021-08-28T18:56:47.161Z"
   },
   {
    "duration": 338,
    "start_time": "2021-08-28T18:56:49.055Z"
   },
   {
    "duration": 344,
    "start_time": "2021-08-28T18:56:49.396Z"
   },
   {
    "duration": 360,
    "start_time": "2021-08-28T18:56:49.743Z"
   },
   {
    "duration": 11,
    "start_time": "2021-08-28T18:56:50.106Z"
   },
   {
    "duration": 36,
    "start_time": "2021-08-28T18:56:50.119Z"
   },
   {
    "duration": 91,
    "start_time": "2021-08-28T18:56:50.158Z"
   },
   {
    "duration": 5805,
    "start_time": "2021-08-28T18:56:50.255Z"
   },
   {
    "duration": 68,
    "start_time": "2021-08-28T18:56:56.064Z"
   },
   {
    "duration": 24,
    "start_time": "2021-08-28T18:56:56.137Z"
   },
   {
    "duration": 12,
    "start_time": "2021-08-28T18:56:56.166Z"
   },
   {
    "duration": 9,
    "start_time": "2021-08-28T18:56:56.181Z"
   },
   {
    "duration": 1235,
    "start_time": "2021-08-28T18:56:56.193Z"
   },
   {
    "duration": 66,
    "start_time": "2021-08-28T18:56:57.431Z"
   },
   {
    "duration": 11,
    "start_time": "2021-08-28T18:56:57.499Z"
   },
   {
    "duration": 15,
    "start_time": "2021-08-28T18:56:57.513Z"
   },
   {
    "duration": 65,
    "start_time": "2021-08-28T18:56:57.531Z"
   },
   {
    "duration": 9,
    "start_time": "2021-08-28T18:56:57.599Z"
   },
   {
    "duration": 777,
    "start_time": "2021-08-28T18:56:57.610Z"
   },
   {
    "duration": 162,
    "start_time": "2021-08-28T18:56:58.228Z"
   },
   {
    "duration": 162,
    "start_time": "2021-08-28T18:56:58.230Z"
   },
   {
    "duration": 161,
    "start_time": "2021-08-28T18:56:58.232Z"
   },
   {
    "duration": 161,
    "start_time": "2021-08-28T18:56:58.234Z"
   },
   {
    "duration": 158,
    "start_time": "2021-08-28T18:56:58.238Z"
   },
   {
    "duration": 158,
    "start_time": "2021-08-28T18:56:58.240Z"
   },
   {
    "duration": 157,
    "start_time": "2021-08-28T18:56:58.242Z"
   },
   {
    "duration": 157,
    "start_time": "2021-08-28T18:56:58.243Z"
   },
   {
    "duration": 157,
    "start_time": "2021-08-28T18:56:58.245Z"
   },
   {
    "duration": 1855,
    "start_time": "2021-08-28T18:57:53.542Z"
   },
   {
    "duration": 3,
    "start_time": "2021-08-28T18:57:55.399Z"
   },
   {
    "duration": 71,
    "start_time": "2021-08-28T18:57:55.405Z"
   },
   {
    "duration": 13,
    "start_time": "2021-08-28T18:57:55.479Z"
   },
   {
    "duration": 17,
    "start_time": "2021-08-28T18:57:55.494Z"
   },
   {
    "duration": 26,
    "start_time": "2021-08-28T18:57:55.514Z"
   },
   {
    "duration": 17,
    "start_time": "2021-08-28T18:57:55.543Z"
   },
   {
    "duration": 12,
    "start_time": "2021-08-28T18:57:55.565Z"
   },
   {
    "duration": 19,
    "start_time": "2021-08-28T18:57:55.581Z"
   },
   {
    "duration": 395,
    "start_time": "2021-08-28T18:57:55.603Z"
   },
   {
    "duration": 225,
    "start_time": "2021-08-28T18:57:56.000Z"
   },
   {
    "duration": 28,
    "start_time": "2021-08-28T18:57:56.228Z"
   },
   {
    "duration": 475,
    "start_time": "2021-08-28T18:57:56.259Z"
   },
   {
    "duration": 1910,
    "start_time": "2021-08-28T18:57:56.736Z"
   },
   {
    "duration": 347,
    "start_time": "2021-08-28T18:57:58.648Z"
   },
   {
    "duration": 345,
    "start_time": "2021-08-28T18:57:58.997Z"
   },
   {
    "duration": 353,
    "start_time": "2021-08-28T18:57:59.344Z"
   },
   {
    "duration": 12,
    "start_time": "2021-08-28T18:57:59.699Z"
   },
   {
    "duration": 28,
    "start_time": "2021-08-28T18:57:59.714Z"
   },
   {
    "duration": 131,
    "start_time": "2021-08-28T18:57:59.757Z"
   },
   {
    "duration": 12,
    "start_time": "2021-08-28T18:57:59.891Z"
   },
   {
    "duration": 6626,
    "start_time": "2021-08-28T18:57:59.906Z"
   },
   {
    "duration": 81,
    "start_time": "2021-08-28T18:58:06.537Z"
   },
   {
    "duration": 7,
    "start_time": "2021-08-28T18:58:06.620Z"
   },
   {
    "duration": 31,
    "start_time": "2021-08-28T18:58:06.629Z"
   },
   {
    "duration": 10,
    "start_time": "2021-08-28T18:58:06.663Z"
   },
   {
    "duration": 1241,
    "start_time": "2021-08-28T18:58:06.676Z"
   },
   {
    "duration": 64,
    "start_time": "2021-08-28T18:58:07.920Z"
   },
   {
    "duration": 12,
    "start_time": "2021-08-28T18:58:07.986Z"
   },
   {
    "duration": 28,
    "start_time": "2021-08-28T18:58:08.000Z"
   },
   {
    "duration": 63,
    "start_time": "2021-08-28T18:58:08.030Z"
   },
   {
    "duration": 8,
    "start_time": "2021-08-28T18:58:08.095Z"
   },
   {
    "duration": 804,
    "start_time": "2021-08-28T18:58:08.104Z"
   },
   {
    "duration": 163,
    "start_time": "2021-08-28T18:58:08.748Z"
   },
   {
    "duration": 162,
    "start_time": "2021-08-28T18:58:08.750Z"
   },
   {
    "duration": 162,
    "start_time": "2021-08-28T18:58:08.751Z"
   },
   {
    "duration": 162,
    "start_time": "2021-08-28T18:58:08.753Z"
   },
   {
    "duration": 161,
    "start_time": "2021-08-28T18:58:08.755Z"
   },
   {
    "duration": 161,
    "start_time": "2021-08-28T18:58:08.756Z"
   },
   {
    "duration": 161,
    "start_time": "2021-08-28T18:58:08.758Z"
   },
   {
    "duration": 161,
    "start_time": "2021-08-28T18:58:08.759Z"
   },
   {
    "duration": 160,
    "start_time": "2021-08-28T18:58:08.761Z"
   },
   {
    "duration": 1691,
    "start_time": "2021-08-28T18:58:39.101Z"
   },
   {
    "duration": 4,
    "start_time": "2021-08-28T18:58:40.795Z"
   },
   {
    "duration": 64,
    "start_time": "2021-08-28T18:58:40.805Z"
   },
   {
    "duration": 14,
    "start_time": "2021-08-28T18:58:40.872Z"
   },
   {
    "duration": 6,
    "start_time": "2021-08-28T18:58:40.889Z"
   },
   {
    "duration": 10,
    "start_time": "2021-08-28T18:58:40.898Z"
   },
   {
    "duration": 49,
    "start_time": "2021-08-28T18:58:40.913Z"
   },
   {
    "duration": 6,
    "start_time": "2021-08-28T18:58:40.967Z"
   },
   {
    "duration": 8,
    "start_time": "2021-08-28T18:58:40.976Z"
   },
   {
    "duration": 393,
    "start_time": "2021-08-28T18:58:40.986Z"
   },
   {
    "duration": 226,
    "start_time": "2021-08-28T18:58:41.381Z"
   },
   {
    "duration": 17,
    "start_time": "2021-08-28T18:58:41.609Z"
   },
   {
    "duration": 480,
    "start_time": "2021-08-28T18:58:41.628Z"
   },
   {
    "duration": 1791,
    "start_time": "2021-08-28T18:58:42.111Z"
   },
   {
    "duration": 346,
    "start_time": "2021-08-28T18:58:43.904Z"
   },
   {
    "duration": 347,
    "start_time": "2021-08-28T18:58:44.256Z"
   },
   {
    "duration": 362,
    "start_time": "2021-08-28T18:58:44.605Z"
   },
   {
    "duration": 13,
    "start_time": "2021-08-28T18:58:44.969Z"
   },
   {
    "duration": 19,
    "start_time": "2021-08-28T18:58:44.986Z"
   },
   {
    "duration": 165,
    "start_time": "2021-08-28T18:58:45.007Z"
   },
   {
    "duration": 8,
    "start_time": "2021-08-28T18:58:45.175Z"
   },
   {
    "duration": 5487,
    "start_time": "2021-08-28T18:58:45.186Z"
   },
   {
    "duration": 92,
    "start_time": "2021-08-28T18:58:50.678Z"
   },
   {
    "duration": 7,
    "start_time": "2021-08-28T18:58:50.773Z"
   },
   {
    "duration": 15,
    "start_time": "2021-08-28T18:58:50.783Z"
   },
   {
    "duration": 6,
    "start_time": "2021-08-28T18:58:50.801Z"
   },
   {
    "duration": 1277,
    "start_time": "2021-08-28T18:58:50.810Z"
   },
   {
    "duration": 51,
    "start_time": "2021-08-28T18:58:52.089Z"
   },
   {
    "duration": 23,
    "start_time": "2021-08-28T18:58:52.142Z"
   },
   {
    "duration": 14,
    "start_time": "2021-08-28T18:58:52.171Z"
   },
   {
    "duration": 83,
    "start_time": "2021-08-28T18:58:52.187Z"
   },
   {
    "duration": 10,
    "start_time": "2021-08-28T18:58:52.272Z"
   },
   {
    "duration": 791,
    "start_time": "2021-08-28T18:58:52.284Z"
   },
   {
    "duration": 174,
    "start_time": "2021-08-28T18:58:52.905Z"
   },
   {
    "duration": 173,
    "start_time": "2021-08-28T18:58:52.907Z"
   },
   {
    "duration": 174,
    "start_time": "2021-08-28T18:58:52.909Z"
   },
   {
    "duration": 174,
    "start_time": "2021-08-28T18:58:52.911Z"
   },
   {
    "duration": 175,
    "start_time": "2021-08-28T18:58:52.912Z"
   },
   {
    "duration": 171,
    "start_time": "2021-08-28T18:58:52.918Z"
   },
   {
    "duration": 172,
    "start_time": "2021-08-28T18:58:52.919Z"
   },
   {
    "duration": 171,
    "start_time": "2021-08-28T18:58:52.922Z"
   },
   {
    "duration": 172,
    "start_time": "2021-08-28T18:58:52.923Z"
   },
   {
    "duration": 1938,
    "start_time": "2021-08-28T18:59:29.331Z"
   },
   {
    "duration": 4,
    "start_time": "2021-08-28T18:59:31.273Z"
   },
   {
    "duration": 67,
    "start_time": "2021-08-28T18:59:31.280Z"
   },
   {
    "duration": 22,
    "start_time": "2021-08-28T18:59:31.350Z"
   },
   {
    "duration": 7,
    "start_time": "2021-08-28T18:59:31.375Z"
   },
   {
    "duration": 19,
    "start_time": "2021-08-28T18:59:31.385Z"
   },
   {
    "duration": 25,
    "start_time": "2021-08-28T18:59:31.406Z"
   },
   {
    "duration": 26,
    "start_time": "2021-08-28T18:59:31.435Z"
   },
   {
    "duration": 20,
    "start_time": "2021-08-28T18:59:31.465Z"
   },
   {
    "duration": 421,
    "start_time": "2021-08-28T18:59:31.488Z"
   },
   {
    "duration": 271,
    "start_time": "2021-08-28T18:59:31.911Z"
   },
   {
    "duration": 18,
    "start_time": "2021-08-28T18:59:32.184Z"
   },
   {
    "duration": 567,
    "start_time": "2021-08-28T18:59:32.206Z"
   },
   {
    "duration": 2044,
    "start_time": "2021-08-28T18:59:32.776Z"
   },
   {
    "duration": 380,
    "start_time": "2021-08-28T18:59:34.824Z"
   },
   {
    "duration": 376,
    "start_time": "2021-08-28T18:59:35.207Z"
   },
   {
    "duration": 396,
    "start_time": "2021-08-28T18:59:35.586Z"
   },
   {
    "duration": 15,
    "start_time": "2021-08-28T18:59:35.985Z"
   },
   {
    "duration": 31,
    "start_time": "2021-08-28T18:59:36.003Z"
   },
   {
    "duration": 33,
    "start_time": "2021-08-28T18:59:36.036Z"
   },
   {
    "duration": 111,
    "start_time": "2021-08-28T18:59:36.073Z"
   },
   {
    "duration": 8538,
    "start_time": "2021-08-28T18:59:36.187Z"
   },
   {
    "duration": 103,
    "start_time": "2021-08-28T18:59:44.731Z"
   },
   {
    "duration": 7,
    "start_time": "2021-08-28T18:59:44.838Z"
   },
   {
    "duration": 26,
    "start_time": "2021-08-28T18:59:44.847Z"
   },
   {
    "duration": 11,
    "start_time": "2021-08-28T18:59:44.877Z"
   },
   {
    "duration": 1352,
    "start_time": "2021-08-28T18:59:44.891Z"
   },
   {
    "duration": 17,
    "start_time": "2021-08-28T18:59:46.246Z"
   },
   {
    "duration": 36,
    "start_time": "2021-08-28T18:59:46.268Z"
   },
   {
    "duration": 14,
    "start_time": "2021-08-28T18:59:46.307Z"
   },
   {
    "duration": 14,
    "start_time": "2021-08-28T18:59:46.323Z"
   },
   {
    "duration": 24,
    "start_time": "2021-08-28T18:59:46.340Z"
   },
   {
    "duration": 158,
    "start_time": "2021-08-28T18:59:46.368Z"
   },
   {
    "duration": 4,
    "start_time": "2021-08-28T18:59:46.529Z"
   },
   {
    "duration": 491,
    "start_time": "2021-08-28T18:59:46.535Z"
   },
   {
    "duration": 171,
    "start_time": "2021-08-28T18:59:46.858Z"
   },
   {
    "duration": 171,
    "start_time": "2021-08-28T18:59:46.860Z"
   },
   {
    "duration": 171,
    "start_time": "2021-08-28T18:59:46.861Z"
   },
   {
    "duration": 170,
    "start_time": "2021-08-28T18:59:46.863Z"
   },
   {
    "duration": 171,
    "start_time": "2021-08-28T18:59:46.864Z"
   },
   {
    "duration": 169,
    "start_time": "2021-08-28T18:59:46.867Z"
   },
   {
    "duration": 167,
    "start_time": "2021-08-28T18:59:46.871Z"
   },
   {
    "duration": 2090,
    "start_time": "2021-08-28T19:00:13.729Z"
   },
   {
    "duration": 4,
    "start_time": "2021-08-28T19:00:15.821Z"
   },
   {
    "duration": 80,
    "start_time": "2021-08-28T19:00:15.827Z"
   },
   {
    "duration": 22,
    "start_time": "2021-08-28T19:00:15.910Z"
   },
   {
    "duration": 24,
    "start_time": "2021-08-28T19:00:15.936Z"
   },
   {
    "duration": 13,
    "start_time": "2021-08-28T19:00:15.964Z"
   },
   {
    "duration": 23,
    "start_time": "2021-08-28T19:00:15.980Z"
   },
   {
    "duration": 7,
    "start_time": "2021-08-28T19:00:16.007Z"
   },
   {
    "duration": 38,
    "start_time": "2021-08-28T19:00:16.017Z"
   },
   {
    "duration": 507,
    "start_time": "2021-08-28T19:00:16.059Z"
   },
   {
    "duration": 248,
    "start_time": "2021-08-28T19:00:16.571Z"
   },
   {
    "duration": 34,
    "start_time": "2021-08-28T19:00:16.823Z"
   },
   {
    "duration": 485,
    "start_time": "2021-08-28T19:00:16.860Z"
   },
   {
    "duration": 1852,
    "start_time": "2021-08-28T19:00:17.356Z"
   },
   {
    "duration": 457,
    "start_time": "2021-08-28T19:00:19.211Z"
   },
   {
    "duration": 377,
    "start_time": "2021-08-28T19:00:19.672Z"
   },
   {
    "duration": 393,
    "start_time": "2021-08-28T19:00:20.052Z"
   },
   {
    "duration": 218,
    "start_time": "2021-08-28T19:00:20.448Z"
   },
   {
    "duration": 106,
    "start_time": "2021-08-28T19:00:20.670Z"
   },
   {
    "duration": 11152,
    "start_time": "2021-08-28T19:00:20.778Z"
   },
   {
    "duration": 92,
    "start_time": "2021-08-28T19:00:31.932Z"
   },
   {
    "duration": 9,
    "start_time": "2021-08-28T19:00:32.026Z"
   },
   {
    "duration": 32,
    "start_time": "2021-08-28T19:00:32.039Z"
   },
   {
    "duration": 20,
    "start_time": "2021-08-28T19:00:32.075Z"
   },
   {
    "duration": 1372,
    "start_time": "2021-08-28T19:00:32.098Z"
   },
   {
    "duration": 12,
    "start_time": "2021-08-28T19:00:33.475Z"
   },
   {
    "duration": 22,
    "start_time": "2021-08-28T19:00:33.489Z"
   },
   {
    "duration": 36,
    "start_time": "2021-08-28T19:00:33.513Z"
   },
   {
    "duration": 12,
    "start_time": "2021-08-28T19:00:33.552Z"
   },
   {
    "duration": 150,
    "start_time": "2021-08-28T19:00:33.567Z"
   },
   {
    "duration": 3,
    "start_time": "2021-08-28T19:00:33.720Z"
   },
   {
    "duration": 515,
    "start_time": "2021-08-28T19:00:33.726Z"
   },
   {
    "duration": 172,
    "start_time": "2021-08-28T19:00:34.072Z"
   },
   {
    "duration": 170,
    "start_time": "2021-08-28T19:00:34.075Z"
   },
   {
    "duration": 169,
    "start_time": "2021-08-28T19:00:34.078Z"
   },
   {
    "duration": 167,
    "start_time": "2021-08-28T19:00:34.082Z"
   },
   {
    "duration": 164,
    "start_time": "2021-08-28T19:00:34.086Z"
   },
   {
    "duration": 165,
    "start_time": "2021-08-28T19:00:34.087Z"
   },
   {
    "duration": 160,
    "start_time": "2021-08-28T19:00:34.093Z"
   },
   {
    "duration": 1881,
    "start_time": "2021-08-28T19:03:17.244Z"
   },
   {
    "duration": 4,
    "start_time": "2021-08-28T19:03:19.129Z"
   },
   {
    "duration": 54,
    "start_time": "2021-08-28T19:03:19.136Z"
   },
   {
    "duration": 15,
    "start_time": "2021-08-28T19:03:19.193Z"
   },
   {
    "duration": 6,
    "start_time": "2021-08-28T19:03:19.211Z"
   },
   {
    "duration": 37,
    "start_time": "2021-08-28T19:03:19.219Z"
   },
   {
    "duration": 18,
    "start_time": "2021-08-28T19:03:19.261Z"
   },
   {
    "duration": 7,
    "start_time": "2021-08-28T19:03:19.284Z"
   },
   {
    "duration": 7,
    "start_time": "2021-08-28T19:03:19.294Z"
   },
   {
    "duration": 440,
    "start_time": "2021-08-28T19:03:19.304Z"
   },
   {
    "duration": 237,
    "start_time": "2021-08-28T19:03:19.754Z"
   },
   {
    "duration": 18,
    "start_time": "2021-08-28T19:03:19.994Z"
   },
   {
    "duration": 489,
    "start_time": "2021-08-28T19:03:20.015Z"
   },
   {
    "duration": 1795,
    "start_time": "2021-08-28T19:03:20.506Z"
   },
   {
    "duration": 359,
    "start_time": "2021-08-28T19:03:22.303Z"
   },
   {
    "duration": 362,
    "start_time": "2021-08-28T19:03:22.665Z"
   },
   {
    "duration": 367,
    "start_time": "2021-08-28T19:03:23.030Z"
   },
   {
    "duration": 15,
    "start_time": "2021-08-28T19:03:23.400Z"
   },
   {
    "duration": 109,
    "start_time": "2021-08-28T19:03:23.418Z"
   },
   {
    "duration": 5969,
    "start_time": "2021-08-28T19:03:23.530Z"
   },
   {
    "duration": 101,
    "start_time": "2021-08-28T19:03:29.502Z"
   },
   {
    "duration": 7,
    "start_time": "2021-08-28T19:03:29.605Z"
   },
   {
    "duration": 10,
    "start_time": "2021-08-28T19:03:29.617Z"
   },
   {
    "duration": 25,
    "start_time": "2021-08-28T19:03:29.630Z"
   },
   {
    "duration": 1309,
    "start_time": "2021-08-28T19:03:29.661Z"
   },
   {
    "duration": 7,
    "start_time": "2021-08-28T19:03:30.973Z"
   },
   {
    "duration": 9,
    "start_time": "2021-08-28T19:03:30.982Z"
   },
   {
    "duration": 846,
    "start_time": "2021-08-28T19:03:30.994Z"
   },
   {
    "duration": 155,
    "start_time": "2021-08-28T19:03:31.687Z"
   },
   {
    "duration": 152,
    "start_time": "2021-08-28T19:03:31.691Z"
   },
   {
    "duration": 151,
    "start_time": "2021-08-28T19:03:31.694Z"
   },
   {
    "duration": 150,
    "start_time": "2021-08-28T19:03:31.697Z"
   },
   {
    "duration": 148,
    "start_time": "2021-08-28T19:03:31.700Z"
   },
   {
    "duration": 147,
    "start_time": "2021-08-28T19:03:31.702Z"
   },
   {
    "duration": 147,
    "start_time": "2021-08-28T19:03:31.704Z"
   },
   {
    "duration": 146,
    "start_time": "2021-08-28T19:03:31.706Z"
   },
   {
    "duration": 143,
    "start_time": "2021-08-28T19:03:31.711Z"
   },
   {
    "duration": 7,
    "start_time": "2021-08-28T19:03:44.206Z"
   },
   {
    "duration": 124,
    "start_time": "2021-08-28T19:03:44.846Z"
   },
   {
    "duration": 258,
    "start_time": "2021-08-28T19:04:05.798Z"
   },
   {
    "duration": 1707,
    "start_time": "2021-08-28T19:04:45.792Z"
   },
   {
    "duration": 3,
    "start_time": "2021-08-28T19:04:47.502Z"
   },
   {
    "duration": 69,
    "start_time": "2021-08-28T19:04:47.509Z"
   },
   {
    "duration": 16,
    "start_time": "2021-08-28T19:04:47.581Z"
   },
   {
    "duration": 15,
    "start_time": "2021-08-28T19:04:47.600Z"
   },
   {
    "duration": 21,
    "start_time": "2021-08-28T19:04:47.618Z"
   },
   {
    "duration": 18,
    "start_time": "2021-08-28T19:04:47.653Z"
   },
   {
    "duration": 8,
    "start_time": "2021-08-28T19:04:47.674Z"
   },
   {
    "duration": 15,
    "start_time": "2021-08-28T19:04:47.687Z"
   },
   {
    "duration": 430,
    "start_time": "2021-08-28T19:04:47.707Z"
   },
   {
    "duration": 245,
    "start_time": "2021-08-28T19:04:48.140Z"
   },
   {
    "duration": 19,
    "start_time": "2021-08-28T19:04:48.388Z"
   },
   {
    "duration": 501,
    "start_time": "2021-08-28T19:04:48.410Z"
   },
   {
    "duration": 1934,
    "start_time": "2021-08-28T19:04:48.914Z"
   },
   {
    "duration": 360,
    "start_time": "2021-08-28T19:04:50.857Z"
   },
   {
    "duration": 353,
    "start_time": "2021-08-28T19:04:51.220Z"
   },
   {
    "duration": 359,
    "start_time": "2021-08-28T19:04:51.576Z"
   },
   {
    "duration": 37,
    "start_time": "2021-08-28T19:04:51.937Z"
   },
   {
    "duration": 114,
    "start_time": "2021-08-28T19:04:51.976Z"
   },
   {
    "duration": 5703,
    "start_time": "2021-08-28T19:04:52.092Z"
   },
   {
    "duration": 92,
    "start_time": "2021-08-28T19:04:57.798Z"
   },
   {
    "duration": 8,
    "start_time": "2021-08-28T19:04:57.893Z"
   },
   {
    "duration": 35,
    "start_time": "2021-08-28T19:04:57.903Z"
   },
   {
    "duration": 29,
    "start_time": "2021-08-28T19:04:57.941Z"
   },
   {
    "duration": 1214,
    "start_time": "2021-08-28T19:04:57.973Z"
   },
   {
    "duration": 7,
    "start_time": "2021-08-28T19:04:59.189Z"
   },
   {
    "duration": 20,
    "start_time": "2021-08-28T19:04:59.200Z"
   },
   {
    "duration": 23,
    "start_time": "2021-08-28T19:04:59.222Z"
   },
   {
    "duration": 451,
    "start_time": "2021-08-28T19:04:59.247Z"
   },
   {
    "duration": 168,
    "start_time": "2021-08-28T19:04:59.532Z"
   },
   {
    "duration": 169,
    "start_time": "2021-08-28T19:04:59.533Z"
   },
   {
    "duration": 168,
    "start_time": "2021-08-28T19:04:59.535Z"
   },
   {
    "duration": 168,
    "start_time": "2021-08-28T19:04:59.536Z"
   },
   {
    "duration": 169,
    "start_time": "2021-08-28T19:04:59.537Z"
   },
   {
    "duration": 169,
    "start_time": "2021-08-28T19:04:59.538Z"
   },
   {
    "duration": 169,
    "start_time": "2021-08-28T19:04:59.540Z"
   },
   {
    "duration": 164,
    "start_time": "2021-08-28T19:04:59.547Z"
   },
   {
    "duration": 1695,
    "start_time": "2021-08-28T19:05:36.194Z"
   },
   {
    "duration": 3,
    "start_time": "2021-08-28T19:05:37.892Z"
   },
   {
    "duration": 68,
    "start_time": "2021-08-28T19:05:37.898Z"
   },
   {
    "duration": 16,
    "start_time": "2021-08-28T19:05:37.969Z"
   },
   {
    "duration": 16,
    "start_time": "2021-08-28T19:05:37.988Z"
   },
   {
    "duration": 24,
    "start_time": "2021-08-28T19:05:38.007Z"
   },
   {
    "duration": 28,
    "start_time": "2021-08-28T19:05:38.033Z"
   },
   {
    "duration": 22,
    "start_time": "2021-08-28T19:05:38.065Z"
   },
   {
    "duration": 20,
    "start_time": "2021-08-28T19:05:38.092Z"
   },
   {
    "duration": 427,
    "start_time": "2021-08-28T19:05:38.115Z"
   },
   {
    "duration": 234,
    "start_time": "2021-08-28T19:05:38.545Z"
   },
   {
    "duration": 18,
    "start_time": "2021-08-28T19:05:38.781Z"
   },
   {
    "duration": 514,
    "start_time": "2021-08-28T19:05:38.802Z"
   },
   {
    "duration": 1838,
    "start_time": "2021-08-28T19:05:39.319Z"
   },
   {
    "duration": 342,
    "start_time": "2021-08-28T19:05:41.161Z"
   },
   {
    "duration": 344,
    "start_time": "2021-08-28T19:05:41.506Z"
   },
   {
    "duration": 354,
    "start_time": "2021-08-28T19:05:41.855Z"
   },
   {
    "duration": 18,
    "start_time": "2021-08-28T19:05:42.212Z"
   },
   {
    "duration": 110,
    "start_time": "2021-08-28T19:05:42.233Z"
   },
   {
    "duration": 5306,
    "start_time": "2021-08-28T19:05:42.355Z"
   },
   {
    "duration": 120,
    "start_time": "2021-08-28T19:05:47.664Z"
   },
   {
    "duration": 6,
    "start_time": "2021-08-28T19:05:47.786Z"
   },
   {
    "duration": 15,
    "start_time": "2021-08-28T19:05:47.794Z"
   },
   {
    "duration": 7,
    "start_time": "2021-08-28T19:05:47.811Z"
   },
   {
    "duration": 1231,
    "start_time": "2021-08-28T19:05:47.820Z"
   },
   {
    "duration": 10,
    "start_time": "2021-08-28T19:05:49.055Z"
   },
   {
    "duration": 8,
    "start_time": "2021-08-28T19:05:49.073Z"
   },
   {
    "duration": 280,
    "start_time": "2021-08-28T19:05:49.084Z"
   },
   {
    "duration": 4,
    "start_time": "2021-08-28T19:05:49.367Z"
   },
   {
    "duration": 438,
    "start_time": "2021-08-28T19:05:49.374Z"
   },
   {
    "duration": 169,
    "start_time": "2021-08-28T19:05:49.646Z"
   },
   {
    "duration": 168,
    "start_time": "2021-08-28T19:05:49.648Z"
   },
   {
    "duration": 167,
    "start_time": "2021-08-28T19:05:49.650Z"
   },
   {
    "duration": 167,
    "start_time": "2021-08-28T19:05:49.652Z"
   },
   {
    "duration": 162,
    "start_time": "2021-08-28T19:05:49.658Z"
   },
   {
    "duration": 162,
    "start_time": "2021-08-28T19:05:49.660Z"
   },
   {
    "duration": 161,
    "start_time": "2021-08-28T19:05:49.662Z"
   },
   {
    "duration": 161,
    "start_time": "2021-08-28T19:05:49.663Z"
   },
   {
    "duration": 273,
    "start_time": "2021-08-28T19:07:06.335Z"
   },
   {
    "duration": 1733,
    "start_time": "2021-08-28T19:08:32.161Z"
   },
   {
    "duration": 3,
    "start_time": "2021-08-28T19:08:33.897Z"
   },
   {
    "duration": 72,
    "start_time": "2021-08-28T19:08:33.903Z"
   },
   {
    "duration": 14,
    "start_time": "2021-08-28T19:08:33.978Z"
   },
   {
    "duration": 15,
    "start_time": "2021-08-28T19:08:33.994Z"
   },
   {
    "duration": 24,
    "start_time": "2021-08-28T19:08:34.011Z"
   },
   {
    "duration": 20,
    "start_time": "2021-08-28T19:08:34.038Z"
   },
   {
    "duration": 8,
    "start_time": "2021-08-28T19:08:34.061Z"
   },
   {
    "duration": 12,
    "start_time": "2021-08-28T19:08:34.073Z"
   },
   {
    "duration": 404,
    "start_time": "2021-08-28T19:08:34.088Z"
   },
   {
    "duration": 239,
    "start_time": "2021-08-28T19:08:34.495Z"
   },
   {
    "duration": 30,
    "start_time": "2021-08-28T19:08:34.736Z"
   },
   {
    "duration": 461,
    "start_time": "2021-08-28T19:08:34.769Z"
   },
   {
    "duration": 1794,
    "start_time": "2021-08-28T19:08:35.233Z"
   },
   {
    "duration": 349,
    "start_time": "2021-08-28T19:08:37.029Z"
   },
   {
    "duration": 335,
    "start_time": "2021-08-28T19:08:37.381Z"
   },
   {
    "duration": 341,
    "start_time": "2021-08-28T19:08:37.718Z"
   },
   {
    "duration": 19,
    "start_time": "2021-08-28T19:08:38.063Z"
   },
   {
    "duration": 119,
    "start_time": "2021-08-28T19:08:38.084Z"
   },
   {
    "duration": 5845,
    "start_time": "2021-08-28T19:08:38.205Z"
   },
   {
    "duration": 70,
    "start_time": "2021-08-28T19:08:44.054Z"
   },
   {
    "duration": 6,
    "start_time": "2021-08-28T19:08:44.127Z"
   },
   {
    "duration": 14,
    "start_time": "2021-08-28T19:08:44.155Z"
   },
   {
    "duration": 6,
    "start_time": "2021-08-28T19:08:44.172Z"
   },
   {
    "duration": 1270,
    "start_time": "2021-08-28T19:08:44.180Z"
   },
   {
    "duration": 8,
    "start_time": "2021-08-28T19:08:45.453Z"
   },
   {
    "duration": 11,
    "start_time": "2021-08-28T19:08:45.468Z"
   },
   {
    "duration": 188,
    "start_time": "2021-08-28T19:08:45.481Z"
   },
   {
    "duration": 484,
    "start_time": "2021-08-28T19:08:45.672Z"
   },
   {
    "duration": 159,
    "start_time": "2021-08-28T19:08:46.000Z"
   },
   {
    "duration": 161,
    "start_time": "2021-08-28T19:08:46.001Z"
   },
   {
    "duration": 161,
    "start_time": "2021-08-28T19:08:46.003Z"
   },
   {
    "duration": 162,
    "start_time": "2021-08-28T19:08:46.004Z"
   },
   {
    "duration": 163,
    "start_time": "2021-08-28T19:08:46.005Z"
   },
   {
    "duration": 164,
    "start_time": "2021-08-28T19:08:46.006Z"
   },
   {
    "duration": 164,
    "start_time": "2021-08-28T19:08:46.008Z"
   },
   {
    "duration": 161,
    "start_time": "2021-08-28T19:08:46.013Z"
   },
   {
    "duration": 160,
    "start_time": "2021-08-28T19:08:46.015Z"
   },
   {
    "duration": 8,
    "start_time": "2021-08-28T19:09:12.721Z"
   },
   {
    "duration": 111,
    "start_time": "2021-08-28T19:09:13.656Z"
   },
   {
    "duration": 281,
    "start_time": "2021-08-28T19:09:14.488Z"
   },
   {
    "duration": 263,
    "start_time": "2021-08-28T19:09:22.815Z"
   },
   {
    "duration": 8,
    "start_time": "2021-08-28T19:10:03.200Z"
   },
   {
    "duration": 100,
    "start_time": "2021-08-28T19:10:03.763Z"
   },
   {
    "duration": 258,
    "start_time": "2021-08-28T19:10:04.591Z"
   },
   {
    "duration": 1725,
    "start_time": "2021-08-28T19:12:41.360Z"
   },
   {
    "duration": 4,
    "start_time": "2021-08-28T19:12:43.088Z"
   },
   {
    "duration": 62,
    "start_time": "2021-08-28T19:12:43.094Z"
   },
   {
    "duration": 17,
    "start_time": "2021-08-28T19:12:43.159Z"
   },
   {
    "duration": 9,
    "start_time": "2021-08-28T19:12:43.179Z"
   },
   {
    "duration": 11,
    "start_time": "2021-08-28T19:12:43.191Z"
   },
   {
    "duration": 49,
    "start_time": "2021-08-28T19:12:43.205Z"
   },
   {
    "duration": 8,
    "start_time": "2021-08-28T19:12:43.258Z"
   },
   {
    "duration": 6,
    "start_time": "2021-08-28T19:12:43.270Z"
   },
   {
    "duration": 413,
    "start_time": "2021-08-28T19:12:43.279Z"
   },
   {
    "duration": 225,
    "start_time": "2021-08-28T19:12:43.694Z"
   },
   {
    "duration": 16,
    "start_time": "2021-08-28T19:12:43.922Z"
   },
   {
    "duration": 486,
    "start_time": "2021-08-28T19:12:43.940Z"
   },
   {
    "duration": 1851,
    "start_time": "2021-08-28T19:12:44.429Z"
   },
   {
    "duration": 343,
    "start_time": "2021-08-28T19:12:46.282Z"
   },
   {
    "duration": 350,
    "start_time": "2021-08-28T19:12:46.627Z"
   },
   {
    "duration": 341,
    "start_time": "2021-08-28T19:12:46.980Z"
   },
   {
    "duration": 33,
    "start_time": "2021-08-28T19:12:47.324Z"
   },
   {
    "duration": 94,
    "start_time": "2021-08-28T19:12:47.360Z"
   },
   {
    "duration": 5304,
    "start_time": "2021-08-28T19:12:47.457Z"
   },
   {
    "duration": 66,
    "start_time": "2021-08-28T19:12:52.765Z"
   },
   {
    "duration": 26,
    "start_time": "2021-08-28T19:12:52.833Z"
   },
   {
    "duration": 28,
    "start_time": "2021-08-28T19:12:52.863Z"
   },
   {
    "duration": 24,
    "start_time": "2021-08-28T19:12:52.893Z"
   },
   {
    "duration": 1227,
    "start_time": "2021-08-28T19:12:52.919Z"
   },
   {
    "duration": 9,
    "start_time": "2021-08-28T19:12:54.149Z"
   },
   {
    "duration": 8,
    "start_time": "2021-08-28T19:12:54.172Z"
   },
   {
    "duration": 233,
    "start_time": "2021-08-28T19:12:54.183Z"
   },
   {
    "duration": 469,
    "start_time": "2021-08-28T19:12:54.418Z"
   },
   {
    "duration": 181,
    "start_time": "2021-08-28T19:12:54.709Z"
   },
   {
    "duration": 180,
    "start_time": "2021-08-28T19:12:54.711Z"
   },
   {
    "duration": 179,
    "start_time": "2021-08-28T19:12:54.713Z"
   },
   {
    "duration": 179,
    "start_time": "2021-08-28T19:12:54.715Z"
   },
   {
    "duration": 176,
    "start_time": "2021-08-28T19:12:54.719Z"
   },
   {
    "duration": 176,
    "start_time": "2021-08-28T19:12:54.721Z"
   },
   {
    "duration": 176,
    "start_time": "2021-08-28T19:12:54.722Z"
   },
   {
    "duration": 176,
    "start_time": "2021-08-28T19:12:54.724Z"
   },
   {
    "duration": 177,
    "start_time": "2021-08-28T19:12:54.725Z"
   },
   {
    "duration": 177,
    "start_time": "2021-08-28T19:12:54.727Z"
   },
   {
    "duration": 416,
    "start_time": "2021-08-28T19:13:08.605Z"
   },
   {
    "duration": 122,
    "start_time": "2021-08-28T19:13:09.173Z"
   },
   {
    "duration": 268,
    "start_time": "2021-08-28T19:13:10.309Z"
   },
   {
    "duration": 8,
    "start_time": "2021-08-28T19:13:43.519Z"
   },
   {
    "duration": 98,
    "start_time": "2021-08-28T19:13:44.125Z"
   },
   {
    "duration": 272,
    "start_time": "2021-08-28T19:13:45.062Z"
   },
   {
    "duration": 4,
    "start_time": "2021-08-29T12:24:59.934Z"
   },
   {
    "duration": 1850,
    "start_time": "2021-08-30T12:04:00.621Z"
   },
   {
    "duration": 3,
    "start_time": "2021-08-30T12:04:02.474Z"
   },
   {
    "duration": 67,
    "start_time": "2021-08-30T12:04:02.483Z"
   },
   {
    "duration": 13,
    "start_time": "2021-08-30T12:04:02.553Z"
   },
   {
    "duration": 21,
    "start_time": "2021-08-30T12:04:02.568Z"
   },
   {
    "duration": 13,
    "start_time": "2021-08-30T12:04:02.592Z"
   },
   {
    "duration": 14,
    "start_time": "2021-08-30T12:04:02.618Z"
   },
   {
    "duration": 8,
    "start_time": "2021-08-30T12:04:02.635Z"
   },
   {
    "duration": 11,
    "start_time": "2021-08-30T12:04:02.645Z"
   },
   {
    "duration": 415,
    "start_time": "2021-08-30T12:04:02.658Z"
   },
   {
    "duration": 229,
    "start_time": "2021-08-30T12:04:03.075Z"
   },
   {
    "duration": 21,
    "start_time": "2021-08-30T12:04:03.307Z"
   },
   {
    "duration": 471,
    "start_time": "2021-08-30T12:04:03.331Z"
   },
   {
    "duration": 1772,
    "start_time": "2021-08-30T12:04:03.805Z"
   },
   {
    "duration": 339,
    "start_time": "2021-08-30T12:04:05.580Z"
   },
   {
    "duration": 342,
    "start_time": "2021-08-30T12:04:05.921Z"
   },
   {
    "duration": 344,
    "start_time": "2021-08-30T12:04:06.265Z"
   },
   {
    "duration": 18,
    "start_time": "2021-08-30T12:04:06.611Z"
   },
   {
    "duration": 111,
    "start_time": "2021-08-30T12:04:06.631Z"
   },
   {
    "duration": 4221,
    "start_time": "2021-08-30T12:04:06.745Z"
   },
   {
    "duration": 85,
    "start_time": "2021-08-30T12:04:10.969Z"
   },
   {
    "duration": 7,
    "start_time": "2021-08-30T12:04:11.061Z"
   },
   {
    "duration": 12,
    "start_time": "2021-08-30T12:04:11.071Z"
   },
   {
    "duration": 32,
    "start_time": "2021-08-30T12:04:11.085Z"
   },
   {
    "duration": 1311,
    "start_time": "2021-08-30T12:04:11.120Z"
   },
   {
    "duration": 6,
    "start_time": "2021-08-30T12:04:12.434Z"
   },
   {
    "duration": 11,
    "start_time": "2021-08-30T12:04:12.442Z"
   },
   {
    "duration": 173,
    "start_time": "2021-08-30T12:04:12.455Z"
   },
   {
    "duration": 4,
    "start_time": "2021-08-30T12:04:12.630Z"
   },
   {
    "duration": 7,
    "start_time": "2021-08-30T12:04:12.636Z"
   },
   {
    "duration": 8,
    "start_time": "2021-08-30T12:04:12.645Z"
   },
   {
    "duration": 579,
    "start_time": "2021-08-30T12:04:12.655Z"
   },
   {
    "duration": -900,
    "start_time": "2021-08-30T12:04:14.136Z"
   },
   {
    "duration": -901,
    "start_time": "2021-08-30T12:04:14.138Z"
   },
   {
    "duration": -902,
    "start_time": "2021-08-30T12:04:14.141Z"
   },
   {
    "duration": -906,
    "start_time": "2021-08-30T12:04:14.146Z"
   },
   {
    "duration": -906,
    "start_time": "2021-08-30T12:04:14.148Z"
   },
   {
    "duration": -907,
    "start_time": "2021-08-30T12:04:14.150Z"
   },
   {
    "duration": -907,
    "start_time": "2021-08-30T12:04:14.151Z"
   },
   {
    "duration": -909,
    "start_time": "2021-08-30T12:04:14.154Z"
   },
   {
    "duration": 7,
    "start_time": "2021-08-30T12:04:29.575Z"
   },
   {
    "duration": 8,
    "start_time": "2021-08-30T12:04:36.560Z"
   },
   {
    "duration": 404,
    "start_time": "2021-08-30T12:04:43.895Z"
   },
   {
    "duration": 7,
    "start_time": "2021-08-30T12:04:48.710Z"
   },
   {
    "duration": 6,
    "start_time": "2021-08-30T12:04:59.703Z"
   },
   {
    "duration": 126,
    "start_time": "2021-08-30T12:05:32.703Z"
   },
   {
    "duration": 1728,
    "start_time": "2021-08-30T12:12:33.424Z"
   },
   {
    "duration": 4,
    "start_time": "2021-08-30T12:12:35.156Z"
   },
   {
    "duration": 58,
    "start_time": "2021-08-30T12:12:35.164Z"
   },
   {
    "duration": 16,
    "start_time": "2021-08-30T12:12:35.226Z"
   },
   {
    "duration": 13,
    "start_time": "2021-08-30T12:12:35.244Z"
   },
   {
    "duration": 10,
    "start_time": "2021-08-30T12:12:35.260Z"
   },
   {
    "duration": 16,
    "start_time": "2021-08-30T12:12:35.272Z"
   },
   {
    "duration": 7,
    "start_time": "2021-08-30T12:12:35.316Z"
   },
   {
    "duration": 24,
    "start_time": "2021-08-30T12:12:35.327Z"
   },
   {
    "duration": 395,
    "start_time": "2021-08-30T12:12:35.354Z"
   },
   {
    "duration": 235,
    "start_time": "2021-08-30T12:12:35.752Z"
   },
   {
    "duration": 28,
    "start_time": "2021-08-30T12:12:35.989Z"
   },
   {
    "duration": 462,
    "start_time": "2021-08-30T12:12:36.020Z"
   },
   {
    "duration": 1766,
    "start_time": "2021-08-30T12:12:36.485Z"
   },
   {
    "duration": 349,
    "start_time": "2021-08-30T12:12:38.253Z"
   },
   {
    "duration": 337,
    "start_time": "2021-08-30T12:12:38.604Z"
   },
   {
    "duration": 339,
    "start_time": "2021-08-30T12:12:38.944Z"
   },
   {
    "duration": 31,
    "start_time": "2021-08-30T12:12:39.285Z"
   },
   {
    "duration": 105,
    "start_time": "2021-08-30T12:12:39.318Z"
   },
   {
    "duration": 4075,
    "start_time": "2021-08-30T12:12:39.426Z"
   },
   {
    "duration": 73,
    "start_time": "2021-08-30T12:12:43.504Z"
   },
   {
    "duration": 7,
    "start_time": "2021-08-30T12:12:43.579Z"
   },
   {
    "duration": 28,
    "start_time": "2021-08-30T12:12:43.588Z"
   },
   {
    "duration": 7,
    "start_time": "2021-08-30T12:12:43.619Z"
   },
   {
    "duration": 1246,
    "start_time": "2021-08-30T12:12:43.628Z"
   },
   {
    "duration": 6,
    "start_time": "2021-08-30T12:12:44.877Z"
   },
   {
    "duration": 7,
    "start_time": "2021-08-30T12:12:44.888Z"
   },
   {
    "duration": 183,
    "start_time": "2021-08-30T12:12:44.898Z"
   },
   {
    "duration": 3,
    "start_time": "2021-08-30T12:12:45.084Z"
   },
   {
    "duration": 12,
    "start_time": "2021-08-30T12:12:45.089Z"
   },
   {
    "duration": 571,
    "start_time": "2021-08-30T12:12:45.104Z"
   },
   {
    "duration": -885,
    "start_time": "2021-08-30T12:12:46.562Z"
   },
   {
    "duration": -885,
    "start_time": "2021-08-30T12:12:46.564Z"
   },
   {
    "duration": -885,
    "start_time": "2021-08-30T12:12:46.565Z"
   },
   {
    "duration": -885,
    "start_time": "2021-08-30T12:12:46.566Z"
   },
   {
    "duration": -885,
    "start_time": "2021-08-30T12:12:46.568Z"
   },
   {
    "duration": -889,
    "start_time": "2021-08-30T12:12:46.573Z"
   },
   {
    "duration": -889,
    "start_time": "2021-08-30T12:12:46.574Z"
   },
   {
    "duration": 7,
    "start_time": "2021-08-30T12:13:38.933Z"
   },
   {
    "duration": 1851,
    "start_time": "2021-08-30T12:15:26.192Z"
   },
   {
    "duration": 3,
    "start_time": "2021-08-30T12:15:28.046Z"
   },
   {
    "duration": 57,
    "start_time": "2021-08-30T12:15:28.052Z"
   },
   {
    "duration": 14,
    "start_time": "2021-08-30T12:15:28.112Z"
   },
   {
    "duration": 18,
    "start_time": "2021-08-30T12:15:28.129Z"
   },
   {
    "duration": 19,
    "start_time": "2021-08-30T12:15:28.150Z"
   },
   {
    "duration": 16,
    "start_time": "2021-08-30T12:15:28.172Z"
   },
   {
    "duration": 8,
    "start_time": "2021-08-30T12:15:28.192Z"
   },
   {
    "duration": 17,
    "start_time": "2021-08-30T12:15:28.203Z"
   },
   {
    "duration": 396,
    "start_time": "2021-08-30T12:15:28.222Z"
   },
   {
    "duration": 224,
    "start_time": "2021-08-30T12:15:28.621Z"
   },
   {
    "duration": 16,
    "start_time": "2021-08-30T12:15:28.848Z"
   },
   {
    "duration": 454,
    "start_time": "2021-08-30T12:15:28.866Z"
   },
   {
    "duration": 1842,
    "start_time": "2021-08-30T12:15:29.323Z"
   },
   {
    "duration": 329,
    "start_time": "2021-08-30T12:15:31.168Z"
   },
   {
    "duration": 334,
    "start_time": "2021-08-30T12:15:31.500Z"
   },
   {
    "duration": 342,
    "start_time": "2021-08-30T12:15:31.836Z"
   },
   {
    "duration": 19,
    "start_time": "2021-08-30T12:15:32.181Z"
   },
   {
    "duration": 115,
    "start_time": "2021-08-30T12:15:32.202Z"
   },
   {
    "duration": 4563,
    "start_time": "2021-08-30T12:15:32.320Z"
   },
   {
    "duration": 86,
    "start_time": "2021-08-30T12:15:36.885Z"
   },
   {
    "duration": 7,
    "start_time": "2021-08-30T12:15:36.973Z"
   },
   {
    "duration": 24,
    "start_time": "2021-08-30T12:15:36.985Z"
   },
   {
    "duration": 7,
    "start_time": "2021-08-30T12:15:37.012Z"
   },
   {
    "duration": 1266,
    "start_time": "2021-08-30T12:15:37.021Z"
   },
   {
    "duration": 6,
    "start_time": "2021-08-30T12:15:38.290Z"
   },
   {
    "duration": 19,
    "start_time": "2021-08-30T12:15:38.298Z"
   },
   {
    "duration": 163,
    "start_time": "2021-08-30T12:15:38.319Z"
   },
   {
    "duration": 2,
    "start_time": "2021-08-30T12:15:38.485Z"
   },
   {
    "duration": 6,
    "start_time": "2021-08-30T12:15:38.490Z"
   },
   {
    "duration": 23,
    "start_time": "2021-08-30T12:15:38.498Z"
   },
   {
    "duration": 167098,
    "start_time": "2021-08-30T12:15:38.523Z"
   },
   {
    "duration": 54929,
    "start_time": "2021-08-30T12:18:25.625Z"
   },
   {
    "duration": -885,
    "start_time": "2021-08-30T12:19:21.441Z"
   },
   {
    "duration": -886,
    "start_time": "2021-08-30T12:19:21.443Z"
   },
   {
    "duration": -887,
    "start_time": "2021-08-30T12:19:21.445Z"
   },
   {
    "duration": -887,
    "start_time": "2021-08-30T12:19:21.447Z"
   },
   {
    "duration": -891,
    "start_time": "2021-08-30T12:19:21.452Z"
   },
   {
    "duration": 1912,
    "start_time": "2021-08-30T12:23:03.638Z"
   },
   {
    "duration": 3,
    "start_time": "2021-08-30T12:23:05.553Z"
   },
   {
    "duration": 56,
    "start_time": "2021-08-30T12:23:05.559Z"
   },
   {
    "duration": 14,
    "start_time": "2021-08-30T12:23:05.617Z"
   },
   {
    "duration": 19,
    "start_time": "2021-08-30T12:23:05.633Z"
   },
   {
    "duration": 11,
    "start_time": "2021-08-30T12:23:05.654Z"
   },
   {
    "duration": 14,
    "start_time": "2021-08-30T12:23:05.667Z"
   },
   {
    "duration": 30,
    "start_time": "2021-08-30T12:23:05.686Z"
   },
   {
    "duration": 7,
    "start_time": "2021-08-30T12:23:05.720Z"
   },
   {
    "duration": 398,
    "start_time": "2021-08-30T12:23:05.730Z"
   },
   {
    "duration": 234,
    "start_time": "2021-08-30T12:23:06.131Z"
   },
   {
    "duration": 19,
    "start_time": "2021-08-30T12:23:06.368Z"
   },
   {
    "duration": 467,
    "start_time": "2021-08-30T12:23:06.391Z"
   },
   {
    "duration": 1741,
    "start_time": "2021-08-30T12:23:06.860Z"
   },
   {
    "duration": 324,
    "start_time": "2021-08-30T12:23:08.603Z"
   },
   {
    "duration": 343,
    "start_time": "2021-08-30T12:23:08.930Z"
   },
   {
    "duration": 354,
    "start_time": "2021-08-30T12:23:09.276Z"
   },
   {
    "duration": 19,
    "start_time": "2021-08-30T12:23:09.633Z"
   },
   {
    "duration": 116,
    "start_time": "2021-08-30T12:23:09.655Z"
   },
   {
    "duration": 4400,
    "start_time": "2021-08-30T12:23:09.774Z"
   },
   {
    "duration": 82,
    "start_time": "2021-08-30T12:23:14.177Z"
   },
   {
    "duration": 7,
    "start_time": "2021-08-30T12:23:14.261Z"
   },
   {
    "duration": 17,
    "start_time": "2021-08-30T12:23:14.273Z"
   },
   {
    "duration": 22,
    "start_time": "2021-08-30T12:23:14.294Z"
   },
   {
    "duration": 1226,
    "start_time": "2021-08-30T12:23:14.318Z"
   },
   {
    "duration": 7,
    "start_time": "2021-08-30T12:23:15.546Z"
   },
   {
    "duration": 9,
    "start_time": "2021-08-30T12:23:15.555Z"
   },
   {
    "duration": 174,
    "start_time": "2021-08-30T12:23:15.567Z"
   },
   {
    "duration": 3,
    "start_time": "2021-08-30T12:23:15.744Z"
   },
   {
    "duration": 16,
    "start_time": "2021-08-30T12:23:15.750Z"
   },
   {
    "duration": 24,
    "start_time": "2021-08-30T12:23:15.768Z"
   },
   {
    "duration": 167026,
    "start_time": "2021-08-30T12:23:15.795Z"
   },
   {
    "duration": 54804,
    "start_time": "2021-08-30T12:26:02.824Z"
   },
   {
    "duration": 842,
    "start_time": "2021-08-30T12:26:57.631Z"
   },
   {
    "duration": 7,
    "start_time": "2021-08-30T12:26:58.476Z"
   },
   {
    "duration": 77831,
    "start_time": "2021-08-30T12:26:58.485Z"
   },
   {
    "duration": 75,
    "start_time": "2021-08-30T12:28:16.318Z"
   },
   {
    "duration": 585,
    "start_time": "2021-08-30T12:28:16.396Z"
   },
   {
    "duration": 618,
    "start_time": "2021-08-30T12:35:45.572Z"
   },
   {
    "duration": 557,
    "start_time": "2021-08-30T12:35:59.325Z"
   },
   {
    "duration": 686,
    "start_time": "2021-08-30T12:37:04.678Z"
   },
   {
    "duration": 1232,
    "start_time": "2021-08-30T12:38:42.950Z"
   },
   {
    "duration": 563,
    "start_time": "2021-08-30T12:40:59.016Z"
   },
   {
    "duration": 564,
    "start_time": "2021-08-30T12:41:35.240Z"
   },
   {
    "duration": 1800,
    "start_time": "2021-08-30T12:42:24.737Z"
   },
   {
    "duration": 4,
    "start_time": "2021-08-30T12:42:26.540Z"
   },
   {
    "duration": 54,
    "start_time": "2021-08-30T12:42:26.548Z"
   },
   {
    "duration": 22,
    "start_time": "2021-08-30T12:42:26.606Z"
   },
   {
    "duration": 11,
    "start_time": "2021-08-30T12:42:26.631Z"
   },
   {
    "duration": 15,
    "start_time": "2021-08-30T12:42:26.645Z"
   },
   {
    "duration": 16,
    "start_time": "2021-08-30T12:42:26.663Z"
   },
   {
    "duration": 38,
    "start_time": "2021-08-30T12:42:26.682Z"
   },
   {
    "duration": 11,
    "start_time": "2021-08-30T12:42:26.723Z"
   },
   {
    "duration": 387,
    "start_time": "2021-08-30T12:42:26.737Z"
   },
   {
    "duration": 240,
    "start_time": "2021-08-30T12:42:27.126Z"
   },
   {
    "duration": 19,
    "start_time": "2021-08-30T12:42:27.369Z"
   },
   {
    "duration": 481,
    "start_time": "2021-08-30T12:42:27.391Z"
   },
   {
    "duration": 1750,
    "start_time": "2021-08-30T12:42:27.874Z"
   },
   {
    "duration": 343,
    "start_time": "2021-08-30T12:42:29.627Z"
   },
   {
    "duration": 346,
    "start_time": "2021-08-30T12:42:29.973Z"
   },
   {
    "duration": 350,
    "start_time": "2021-08-30T12:42:30.321Z"
   },
   {
    "duration": 18,
    "start_time": "2021-08-30T12:42:30.674Z"
   },
   {
    "duration": 126,
    "start_time": "2021-08-30T12:42:30.694Z"
   },
   {
    "duration": 5096,
    "start_time": "2021-08-30T12:42:30.823Z"
   },
   {
    "duration": 68,
    "start_time": "2021-08-30T12:42:35.921Z"
   },
   {
    "duration": 27,
    "start_time": "2021-08-30T12:42:35.991Z"
   },
   {
    "duration": 27,
    "start_time": "2021-08-30T12:42:36.023Z"
   },
   {
    "duration": 12,
    "start_time": "2021-08-30T12:42:36.054Z"
   },
   {
    "duration": 1259,
    "start_time": "2021-08-30T12:42:36.069Z"
   },
   {
    "duration": 7,
    "start_time": "2021-08-30T12:42:37.330Z"
   },
   {
    "duration": 19,
    "start_time": "2021-08-30T12:42:37.341Z"
   },
   {
    "duration": 172,
    "start_time": "2021-08-30T12:42:37.362Z"
   },
   {
    "duration": 3,
    "start_time": "2021-08-30T12:42:37.537Z"
   },
   {
    "duration": 17,
    "start_time": "2021-08-30T12:42:37.542Z"
   },
   {
    "duration": 25,
    "start_time": "2021-08-30T12:42:37.562Z"
   },
   {
    "duration": 174431,
    "start_time": "2021-08-30T12:42:37.590Z"
   },
   {
    "duration": 54014,
    "start_time": "2021-08-30T12:45:32.024Z"
   },
   {
    "duration": 818,
    "start_time": "2021-08-30T12:46:26.040Z"
   },
   {
    "duration": 5,
    "start_time": "2021-08-30T12:46:26.860Z"
   },
   {
    "duration": 78090,
    "start_time": "2021-08-30T12:46:26.868Z"
   },
   {
    "duration": 82,
    "start_time": "2021-08-30T12:47:44.960Z"
   },
   {
    "duration": 614,
    "start_time": "2021-08-30T12:47:45.045Z"
   },
   {
    "duration": 672,
    "start_time": "2021-08-30T13:22:11.126Z"
   },
   {
    "duration": 553,
    "start_time": "2021-08-30T13:22:28.639Z"
   },
   {
    "duration": 663,
    "start_time": "2021-08-30T13:22:45.493Z"
   },
   {
    "duration": 557,
    "start_time": "2021-08-30T13:23:00.182Z"
   },
   {
    "duration": 643,
    "start_time": "2021-08-30T13:23:07.350Z"
   },
   {
    "duration": 592,
    "start_time": "2021-08-30T13:23:24.303Z"
   },
   {
    "duration": 10,
    "start_time": "2021-08-30T13:23:56.006Z"
   },
   {
    "duration": 8,
    "start_time": "2021-08-30T13:24:09.974Z"
   },
   {
    "duration": 5,
    "start_time": "2021-08-30T13:24:16.622Z"
   },
   {
    "duration": 8,
    "start_time": "2021-08-30T13:24:22.678Z"
   },
   {
    "duration": 467,
    "start_time": "2021-08-30T13:25:14.255Z"
   },
   {
    "duration": 476,
    "start_time": "2021-08-30T13:25:29.926Z"
   },
   {
    "duration": 488,
    "start_time": "2021-08-30T13:25:51.206Z"
   },
   {
    "duration": 498,
    "start_time": "2021-08-30T13:26:30.831Z"
   },
   {
    "duration": 462,
    "start_time": "2021-08-30T13:26:50.391Z"
   },
   {
    "duration": 496,
    "start_time": "2021-08-30T13:27:00.295Z"
   },
   {
    "duration": 694,
    "start_time": "2021-08-30T13:27:32.503Z"
   },
   {
    "duration": 186,
    "start_time": "2021-08-30T13:27:41.287Z"
   },
   {
    "duration": 183,
    "start_time": "2021-08-30T13:27:44.240Z"
   },
   {
    "duration": 465,
    "start_time": "2021-08-30T13:27:46.656Z"
   },
   {
    "duration": 465,
    "start_time": "2021-08-30T13:28:24.407Z"
   },
   {
    "duration": 482,
    "start_time": "2021-08-30T13:28:28.047Z"
   },
   {
    "duration": 498,
    "start_time": "2021-08-30T13:28:37.327Z"
   },
   {
    "duration": 455,
    "start_time": "2021-08-30T13:28:45.383Z"
   },
   {
    "duration": 127,
    "start_time": "2021-08-30T13:29:50.249Z"
   },
   {
    "duration": 459,
    "start_time": "2021-08-30T13:30:08.160Z"
   },
   {
    "duration": 470,
    "start_time": "2021-08-30T13:30:17.512Z"
   },
   {
    "duration": 484,
    "start_time": "2021-08-30T13:30:39.848Z"
   },
   {
    "duration": 440,
    "start_time": "2021-08-30T13:42:56.068Z"
   },
   {
    "duration": 393,
    "start_time": "2021-08-30T13:43:03.132Z"
   },
   {
    "duration": 6,
    "start_time": "2021-08-30T13:43:55.772Z"
   },
   {
    "duration": 6311823,
    "start_time": "2021-08-30T13:44:02.267Z"
   },
   {
    "duration": 461,
    "start_time": "2021-08-30T16:04:49.865Z"
   },
   {
    "duration": 412,
    "start_time": "2021-08-30T16:06:28.972Z"
   },
   {
    "duration": 83,
    "start_time": "2021-08-30T16:06:32.288Z"
   },
   {
    "duration": 2263,
    "start_time": "2021-08-30T16:08:56.526Z"
   },
   {
    "duration": 4,
    "start_time": "2021-08-30T16:08:58.792Z"
   },
   {
    "duration": 84,
    "start_time": "2021-08-30T16:08:58.799Z"
   },
   {
    "duration": 18,
    "start_time": "2021-08-30T16:08:58.887Z"
   },
   {
    "duration": 9,
    "start_time": "2021-08-30T16:08:58.908Z"
   },
   {
    "duration": 14,
    "start_time": "2021-08-30T16:08:58.920Z"
   },
   {
    "duration": 13,
    "start_time": "2021-08-30T16:08:58.938Z"
   },
   {
    "duration": 5,
    "start_time": "2021-08-30T16:08:58.954Z"
   },
   {
    "duration": 7,
    "start_time": "2021-08-30T16:08:58.963Z"
   },
   {
    "duration": 410,
    "start_time": "2021-08-30T16:08:58.973Z"
   },
   {
    "duration": 314,
    "start_time": "2021-08-30T16:08:59.385Z"
   },
   {
    "duration": 26,
    "start_time": "2021-08-30T16:08:59.702Z"
   },
   {
    "duration": 471,
    "start_time": "2021-08-30T16:08:59.730Z"
   },
   {
    "duration": 1763,
    "start_time": "2021-08-30T16:09:00.203Z"
   },
   {
    "duration": 457,
    "start_time": "2021-08-30T16:09:01.969Z"
   },
   {
    "duration": 367,
    "start_time": "2021-08-30T16:09:02.443Z"
   },
   {
    "duration": 336,
    "start_time": "2021-08-30T16:09:02.814Z"
   },
   {
    "duration": 17,
    "start_time": "2021-08-30T16:09:03.152Z"
   },
   {
    "duration": 114,
    "start_time": "2021-08-30T16:09:03.172Z"
   },
   {
    "duration": 6331,
    "start_time": "2021-08-30T16:09:03.289Z"
   },
   {
    "duration": 68,
    "start_time": "2021-08-30T16:09:09.623Z"
   },
   {
    "duration": 24,
    "start_time": "2021-08-30T16:09:09.693Z"
   },
   {
    "duration": 11,
    "start_time": "2021-08-30T16:09:09.720Z"
   },
   {
    "duration": 6,
    "start_time": "2021-08-30T16:09:09.733Z"
   },
   {
    "duration": 1284,
    "start_time": "2021-08-30T16:09:09.741Z"
   },
   {
    "duration": 6,
    "start_time": "2021-08-30T16:09:11.028Z"
   },
   {
    "duration": 11,
    "start_time": "2021-08-30T16:09:11.039Z"
   },
   {
    "duration": 272,
    "start_time": "2021-08-30T16:09:11.053Z"
   },
   {
    "duration": 4,
    "start_time": "2021-08-30T16:09:11.327Z"
   },
   {
    "duration": 7,
    "start_time": "2021-08-30T16:09:11.333Z"
   },
   {
    "duration": 7,
    "start_time": "2021-08-30T16:09:11.343Z"
   },
   {
    "duration": 1772,
    "start_time": "2021-08-30T16:10:18.874Z"
   },
   {
    "duration": 4,
    "start_time": "2021-08-30T16:10:20.649Z"
   },
   {
    "duration": 52,
    "start_time": "2021-08-30T16:10:20.657Z"
   },
   {
    "duration": 14,
    "start_time": "2021-08-30T16:10:20.712Z"
   },
   {
    "duration": 6,
    "start_time": "2021-08-30T16:10:20.728Z"
   },
   {
    "duration": 9,
    "start_time": "2021-08-30T16:10:20.737Z"
   },
   {
    "duration": 14,
    "start_time": "2021-08-30T16:10:20.749Z"
   },
   {
    "duration": 50,
    "start_time": "2021-08-30T16:10:20.766Z"
   },
   {
    "duration": 6,
    "start_time": "2021-08-30T16:10:20.820Z"
   },
   {
    "duration": 389,
    "start_time": "2021-08-30T16:10:20.829Z"
   },
   {
    "duration": 323,
    "start_time": "2021-08-30T16:10:21.220Z"
   },
   {
    "duration": 17,
    "start_time": "2021-08-30T16:10:21.545Z"
   },
   {
    "duration": 566,
    "start_time": "2021-08-30T16:10:21.564Z"
   },
   {
    "duration": 1886,
    "start_time": "2021-08-30T16:10:22.133Z"
   },
   {
    "duration": 422,
    "start_time": "2021-08-30T16:10:24.021Z"
   },
   {
    "duration": 335,
    "start_time": "2021-08-30T16:10:24.446Z"
   },
   {
    "duration": 480,
    "start_time": "2021-08-30T16:10:24.784Z"
   },
   {
    "duration": 17,
    "start_time": "2021-08-30T16:10:25.267Z"
   },
   {
    "duration": 113,
    "start_time": "2021-08-30T16:10:25.286Z"
   },
   {
    "duration": 4661,
    "start_time": "2021-08-30T16:10:25.402Z"
   },
   {
    "duration": 89,
    "start_time": "2021-08-30T16:10:30.065Z"
   },
   {
    "duration": 7,
    "start_time": "2021-08-30T16:10:30.157Z"
   },
   {
    "duration": 24,
    "start_time": "2021-08-30T16:10:30.166Z"
   },
   {
    "duration": 11,
    "start_time": "2021-08-30T16:10:30.192Z"
   },
   {
    "duration": 1369,
    "start_time": "2021-08-30T16:10:30.205Z"
   },
   {
    "duration": 6,
    "start_time": "2021-08-30T16:10:31.577Z"
   },
   {
    "duration": 28,
    "start_time": "2021-08-30T16:10:31.588Z"
   },
   {
    "duration": 172,
    "start_time": "2021-08-30T16:10:31.619Z"
   },
   {
    "duration": 5,
    "start_time": "2021-08-30T16:10:31.793Z"
   },
   {
    "duration": 30,
    "start_time": "2021-08-30T16:10:31.800Z"
   },
   {
    "duration": 245888,
    "start_time": "2021-08-30T16:10:31.833Z"
   },
   {
    "duration": 72210,
    "start_time": "2021-08-30T16:14:37.724Z"
   },
   {
    "duration": 791,
    "start_time": "2021-08-30T16:15:49.937Z"
   },
   {
    "duration": 5,
    "start_time": "2021-08-30T16:15:50.731Z"
   },
   {
    "duration": 6476955,
    "start_time": "2021-08-30T16:15:50.739Z"
   },
   {
    "duration": 81,
    "start_time": "2021-08-30T18:03:47.697Z"
   },
   {
    "duration": 496,
    "start_time": "2021-08-30T18:03:47.781Z"
   }
  ],
  "hide_input": false,
  "kernelspec": {
   "display_name": "Python 3",
   "language": "python",
   "name": "python3"
  },
  "language_info": {
   "codemirror_mode": {
    "name": "ipython",
    "version": 3
   },
   "file_extension": ".py",
   "mimetype": "text/x-python",
   "name": "python",
   "nbconvert_exporter": "python",
   "pygments_lexer": "ipython3",
   "version": "3.7.8"
  },
  "toc": {
   "base_numbering": 1,
   "nav_menu": {},
   "number_sections": false,
   "sideBar": true,
   "skip_h1_title": false,
   "title_cell": "Table of Contents",
   "title_sidebar": "Contents",
   "toc_cell": false,
   "toc_position": {},
   "toc_section_display": true,
   "toc_window_display": false
  }
 },
 "nbformat": 4,
 "nbformat_minor": 4
}
