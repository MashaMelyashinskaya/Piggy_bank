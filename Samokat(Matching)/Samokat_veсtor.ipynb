{
 "cells": [
  {
   "cell_type": "code",
   "execution_count": 1,
   "id": "9a1a31bb",
   "metadata": {},
   "outputs": [],
   "source": [
    "import pandas as pd\n",
    "import faiss\n",
    "import numpy as np\n",
    "import matplotlib.pyplot as plt\n",
    "from sklearn.cluster import KMeans"
   ]
  },
  {
   "cell_type": "code",
   "execution_count": null,
   "id": "2ef2d85b",
   "metadata": {},
   "outputs": [],
   "source": [
    "#импортируем данные\n",
    "base = pd.read_csv('F:\\\\Развитие\\\\DS\\\\Хакатоны\\\\Самокат (векторное расстояние) 05.23\\\\base.csv')\n",
    "train = pd.read_csv('F:\\\\Развитие\\\\DS\\\\Хакатоны\\\\Самокат (векторное расстояние) 05.23\\\\train.csv')\n",
    "test = pd.read_csv('F:\\\\Развитие\\\\DS\\\\Хакатоны\\\\Самокат (векторное расстояние) 05.23\\\\test.csv')"
   ]
  },
  {
   "cell_type": "code",
   "execution_count": null,
   "id": "eefdcd94",
   "metadata": {},
   "outputs": [],
   "source": [
    "#Объединим даннные base и train для получения более точной и интересной БД\n",
    "train['Id'] = train['Target']\n",
    "train = train.drop('Target', axis = 1)\n",
    "base = pd.concat([base, train])\n",
    "base = base.reset_index(drop = True)"
   ]
  },
  {
   "cell_type": "code",
   "execution_count": null,
   "id": "bc42252d",
   "metadata": {},
   "outputs": [],
   "source": [
    "#Подготовим данные для faiss\n",
    "model_columns = base.columns[1:]       \n",
    "db = base[model_columns].values.astype('float32')\n",
    "dt = test[model_columns].values.astype('float32')\n",
    "d = len(model_columns)  "
   ]
  },
  {
   "cell_type": "code",
   "execution_count": null,
   "id": "8d6e7e4d",
   "metadata": {},
   "outputs": [],
   "source": [
    "# #Подберем оптимальное количество кластеров с помощью \"метода локтя\"\n",
    "distortion = []\n",
    "K = range(1, 20)\n",
    "for k in K:\n",
    "    model = KMeans(n_clusters=k, n_init = 10, random_state=12345)\n",
    "    model.fit(db)\n",
    "    distortion.append(model.inertia_)"
   ]
  },
  {
   "cell_type": "code",
   "execution_count": null,
   "id": "a82fb2c0",
   "metadata": {},
   "outputs": [],
   "source": [
    "plt.figure(figsize=(10, 6))\n",
    "plt.plot(K, distortion, 'bx-')\n",
    "plt.xlabel('Число кластеров')\n",
    "plt.ylabel('Значение целевой функции')\n",
    "plt.show() "
   ]
  },
  {
   "cell_type": "code",
   "execution_count": null,
   "id": "a158e78b",
   "metadata": {},
   "outputs": [],
   "source": [
    "#Создадим и обучим индекс faiss\n",
    "k = 20\n",
    "\n",
    "quantiser = faiss.IndexFlatL2(d) \n",
    "index = faiss.IndexIVFFlat(quantiser, d, k)\n",
    "\n",
    "index.train(db)\n",
    "index.add(db)"
   ]
  },
  {
   "cell_type": "code",
   "execution_count": null,
   "id": "6500e464",
   "metadata": {},
   "outputs": [],
   "source": [
    "#Применим обученный индекс для обработки нашего test\n",
    "topn = 10\n",
    "index.nprobe = 5\n",
    "D2, I2 = index.search(dt, topn) \n",
    "I_df_2 = pd.DataFrame(I2)\n",
    "D_df_2 = pd.DataFrame(D2)"
   ]
  },
  {
   "cell_type": "code",
   "execution_count": null,
   "id": "5f35064e",
   "metadata": {},
   "outputs": [],
   "source": [
    "#Сохраним данные в файлик\n",
    "id_base_dict = dict(base['Id'])\n",
    "\n",
    "predicted_list = []\n",
    "for candidates in I2:\n",
    "    predicted_list.append(' '.join([id_base_dict[candidate] for candidate in candidates]))\n",
    "    \n",
    "answer = test[['Id']]\n",
    "answer['Predicted'] = predicted_list\n",
    "\n",
    "answer.to_csv('answer.csv', index=False)"
   ]
  },
  {
   "cell_type": "code",
   "execution_count": null,
   "id": "447d4e9a",
   "metadata": {},
   "outputs": [],
   "source": []
  }
 ],
 "metadata": {
  "hide_input": false,
  "kernelspec": {
   "display_name": "Python 3 (ipykernel)",
   "language": "python",
   "name": "python3"
  },
  "language_info": {
   "codemirror_mode": {
    "name": "ipython",
    "version": 3
   },
   "file_extension": ".py",
   "mimetype": "text/x-python",
   "name": "python",
   "nbconvert_exporter": "python",
   "pygments_lexer": "ipython3",
   "version": "3.11.1"
  },
  "toc": {
   "base_numbering": 1,
   "nav_menu": {},
   "number_sections": true,
   "sideBar": true,
   "skip_h1_title": false,
   "title_cell": "Table of Contents",
   "title_sidebar": "Contents",
   "toc_cell": false,
   "toc_position": {},
   "toc_section_display": true,
   "toc_window_display": false
  }
 },
 "nbformat": 4,
 "nbformat_minor": 5
}
