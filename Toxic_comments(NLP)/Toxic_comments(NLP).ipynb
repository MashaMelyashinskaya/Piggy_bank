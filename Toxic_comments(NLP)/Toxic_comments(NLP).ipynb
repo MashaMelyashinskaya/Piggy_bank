{
 "cells": [
  {
   "cell_type": "markdown",
   "metadata": {},
   "source": [
    "## Найдем токсичные комментарии и отправим их на модерацию"
   ]
  },
  {
   "cell_type": "markdown",
   "metadata": {},
   "source": [
    "### Оглавление\n",
    "\n",
    "[1. Знакомство с данными и их подготовка](#section1)\\\n",
    "[2. Обучение разных моделей](#section2)\\\n",
    "[3. Анализ скорости работы и качества моделей](#section3)\\\n",
    "[4. Общий вывод](#section4)"
   ]
  },
  {
   "cell_type": "markdown",
   "metadata": {},
   "source": [
    "<a id='section1'></a>\n",
    "### 1. Закомство с данными и их подготовка"
   ]
  },
  {
   "cell_type": "code",
   "execution_count": 1,
   "metadata": {},
   "outputs": [],
   "source": [
    "import pandas as pd\n",
    "import matplotlib.pyplot as plt\n",
    "from sklearn.model_selection import train_test_split\n",
    "import nltk\n",
    "from nltk.tokenize import word_tokenize\n",
    "import re\n",
    "from sklearn.feature_extraction.text import TfidfVectorizer\n",
    "from sklearn.linear_model import LogisticRegression\n",
    "from sklearn.metrics import f1_score\n",
    "from catboost import CatBoostClassifier\n",
    "from nltk.stem.snowball import SnowballStemmer\n",
    "from datetime import datetime\n",
    "import lightgbm as lgb"
   ]
  },
  {
   "cell_type": "code",
   "execution_count": 2,
   "metadata": {},
   "outputs": [],
   "source": [
    "import warnings\n",
    "warnings.filterwarnings(\"ignore\")"
   ]
  },
  {
   "cell_type": "code",
   "execution_count": 3,
   "metadata": {},
   "outputs": [],
   "source": [
    "df = pd.read_csv('F:/DS/Задачи Практикум/Projects/3 блок/ML для текстов/toxic_comments.csv')"
   ]
  },
  {
   "cell_type": "code",
   "execution_count": 4,
   "metadata": {},
   "outputs": [
    {
     "name": "stdout",
     "output_type": "stream",
     "text": [
      "<class 'pandas.core.frame.DataFrame'>\n",
      "RangeIndex: 159571 entries, 0 to 159570\n",
      "Data columns (total 2 columns):\n",
      " #   Column  Non-Null Count   Dtype \n",
      "---  ------  --------------   ----- \n",
      " 0   text    159571 non-null  object\n",
      " 1   toxic   159571 non-null  int64 \n",
      "dtypes: int64(1), object(1)\n",
      "memory usage: 2.4+ MB\n"
     ]
    }
   ],
   "source": [
    "df.info()"
   ]
  },
  {
   "cell_type": "code",
   "execution_count": 5,
   "metadata": {},
   "outputs": [
    {
     "data": {
      "text/html": [
       "<div>\n",
       "<style scoped>\n",
       "    .dataframe tbody tr th:only-of-type {\n",
       "        vertical-align: middle;\n",
       "    }\n",
       "\n",
       "    .dataframe tbody tr th {\n",
       "        vertical-align: top;\n",
       "    }\n",
       "\n",
       "    .dataframe thead th {\n",
       "        text-align: right;\n",
       "    }\n",
       "</style>\n",
       "<table border=\"1\" class=\"dataframe\">\n",
       "  <thead>\n",
       "    <tr style=\"text-align: right;\">\n",
       "      <th></th>\n",
       "      <th>text</th>\n",
       "      <th>toxic</th>\n",
       "    </tr>\n",
       "  </thead>\n",
       "  <tbody>\n",
       "    <tr>\n",
       "      <th>0</th>\n",
       "      <td>Explanation\\nWhy the edits made under my usern...</td>\n",
       "      <td>0</td>\n",
       "    </tr>\n",
       "    <tr>\n",
       "      <th>1</th>\n",
       "      <td>D'aww! He matches this background colour I'm s...</td>\n",
       "      <td>0</td>\n",
       "    </tr>\n",
       "    <tr>\n",
       "      <th>2</th>\n",
       "      <td>Hey man, I'm really not trying to edit war. It...</td>\n",
       "      <td>0</td>\n",
       "    </tr>\n",
       "    <tr>\n",
       "      <th>3</th>\n",
       "      <td>\"\\nMore\\nI can't make any real suggestions on ...</td>\n",
       "      <td>0</td>\n",
       "    </tr>\n",
       "    <tr>\n",
       "      <th>4</th>\n",
       "      <td>You, sir, are my hero. Any chance you remember...</td>\n",
       "      <td>0</td>\n",
       "    </tr>\n",
       "  </tbody>\n",
       "</table>\n",
       "</div>"
      ],
      "text/plain": [
       "                                                text  toxic\n",
       "0  Explanation\\nWhy the edits made under my usern...      0\n",
       "1  D'aww! He matches this background colour I'm s...      0\n",
       "2  Hey man, I'm really not trying to edit war. It...      0\n",
       "3  \"\\nMore\\nI can't make any real suggestions on ...      0\n",
       "4  You, sir, are my hero. Any chance you remember...      0"
      ]
     },
     "execution_count": 5,
     "metadata": {},
     "output_type": "execute_result"
    }
   ],
   "source": [
    "df.head()"
   ]
  },
  {
   "cell_type": "code",
   "execution_count": 6,
   "metadata": {},
   "outputs": [
    {
     "data": {
      "text/plain": [
       "Text(0.5, 1.0, 'Баланс классов')"
      ]
     },
     "execution_count": 6,
     "metadata": {},
     "output_type": "execute_result"
    },
    {
     "data": {
      "image/png": "[encoded data removed]",
      "text/plain": [
       "<Figure size 576x288 with 1 Axes>"
      ]
     },
     "metadata": {},
     "output_type": "display_data"
    }
   ],
   "source": [
    "df_pie = df.groupby(\"toxic\")[\"toxic\"].count()\n",
    "pie, ax = plt.subplots(figsize=[8,4])\n",
    "df_pie.plot.pie(autopct=\"%.1f%%\", pctdistance=0.7)\n",
    "plt.title(\"Баланс классов\", fontsize=14)"
   ]
  },
  {
   "cell_type": "markdown",
   "metadata": {},
   "source": [
    "Как видим, у наших данных сильный дисбаланс классов. Посмотрим, мб это понадобится учесть."
   ]
  },
  {
   "cell_type": "code",
   "execution_count": 7,
   "metadata": {},
   "outputs": [],
   "source": [
    "stemmer = SnowballStemmer(\"english\")\n",
    "def clean_stem(text):\n",
    "    text = re.sub(r'[^a-zA-Z]', ' ', text)\n",
    "    word_list = nltk.word_tokenize(text)\n",
    "    lemmatized_output = ' '.join([stemmer.stem(word) for word in word_list])\n",
    "    return lemmatized_output"
   ]
  },
  {
   "cell_type": "code",
   "execution_count": 8,
   "metadata": {},
   "outputs": [],
   "source": [
    "df_clean = pd.DataFrame(df['text'].apply(clean_stem))\n",
    "df_clean['toxic'] = df['toxic']"
   ]
  },
  {
   "cell_type": "markdown",
   "metadata": {},
   "source": [
    "Разделим датасет на тренировочную и тестовую выборку."
   ]
  },
  {
   "cell_type": "code",
   "execution_count": 9,
   "metadata": {},
   "outputs": [],
   "source": [
    "train, test = train_test_split(df_clean, test_size = 0.3, random_state = 123)"
   ]
  },
  {
   "cell_type": "markdown",
   "metadata": {},
   "source": [
    "Сделаем из наших твитов обучающий и тестовый корпусы."
   ]
  },
  {
   "cell_type": "code",
   "execution_count": 10,
   "metadata": {},
   "outputs": [],
   "source": [
    "corpus_train = list(train['text'])\n",
    "corpus_test = list(test['text'])"
   ]
  },
  {
   "cell_type": "markdown",
   "metadata": {},
   "source": [
    "Стеммингуем и уберем стоп-слова."
   ]
  },
  {
   "cell_type": "markdown",
   "metadata": {},
   "source": [
    "Преобразуем наши корпусы в матрицы TF-IDF."
   ]
  },
  {
   "cell_type": "code",
   "execution_count": 11,
   "metadata": {},
   "outputs": [],
   "source": [
    "count_tf_idf = TfidfVectorizer()\n",
    "tf_idf_train = count_tf_idf.fit_transform(corpus_train)\n",
    "tf_idf_test = count_tf_idf.transform(corpus_test)"
   ]
  },
  {
   "cell_type": "markdown",
   "metadata": {},
   "source": [
    "<a id='section2'></a>\n",
    "### 2. Обучение разных моделей"
   ]
  },
  {
   "cell_type": "markdown",
   "metadata": {},
   "source": [
    "#### Логистическая регрессия"
   ]
  },
  {
   "cell_type": "code",
   "execution_count": 12,
   "metadata": {},
   "outputs": [],
   "source": [
    "start_time = datetime.now()\n",
    "modelLogR = LogisticRegression(random_state = 123)\n",
    "modelLogR.fit(tf_idf_train, train['toxic'])\n",
    "end_time = datetime.now()\n",
    "duration = end_time - start_time"
   ]
  },
  {
   "cell_type": "code",
   "execution_count": 13,
   "metadata": {},
   "outputs": [],
   "source": [
    "start_time = datetime.now()\n",
    "predictions_LogR = modelLogR.predict(tf_idf_test)\n",
    "end_time = datetime.now()\n",
    "duration_pred = end_time - start_time"
   ]
  },
  {
   "cell_type": "code",
   "execution_count": 14,
   "metadata": {},
   "outputs": [],
   "source": [
    "f1_LogR = (f1_score(test['toxic'], predictions_LogR)).round(2)"
   ]
  },
  {
   "cell_type": "code",
   "execution_count": 15,
   "metadata": {},
   "outputs": [
    {
     "data": {
      "text/html": [
       "<div>\n",
       "<style scoped>\n",
       "    .dataframe tbody tr th:only-of-type {\n",
       "        vertical-align: middle;\n",
       "    }\n",
       "\n",
       "    .dataframe tbody tr th {\n",
       "        vertical-align: top;\n",
       "    }\n",
       "\n",
       "    .dataframe thead th {\n",
       "        text-align: right;\n",
       "    }\n",
       "</style>\n",
       "<table border=\"1\" class=\"dataframe\">\n",
       "  <thead>\n",
       "    <tr style=\"text-align: right;\">\n",
       "      <th></th>\n",
       "      <th>f1</th>\n",
       "      <th>training_time_sec</th>\n",
       "      <th>predict_time_sec</th>\n",
       "    </tr>\n",
       "  </thead>\n",
       "  <tbody>\n",
       "    <tr>\n",
       "      <th>LogRegression</th>\n",
       "      <td>0.75</td>\n",
       "      <td>00:00:06.437486</td>\n",
       "      <td>00:00:00.012791</td>\n",
       "    </tr>\n",
       "  </tbody>\n",
       "</table>\n",
       "</div>"
      ],
      "text/plain": [
       "                 f1 training_time_sec predict_time_sec\n",
       "LogRegression  0.75   00:00:06.437486  00:00:00.012791"
      ]
     },
     "execution_count": 15,
     "metadata": {},
     "output_type": "execute_result"
    }
   ],
   "source": [
    "#Начнем формировать таблицу для сравнения скора и скорости обучения моделей\n",
    "metrics = pd.DataFrame([[f1_LogR, duration, duration_pred]], columns = ['f1', 'training_time_sec', 'predict_time_sec'],\n",
    "                       index = ['LogRegression'])\n",
    "metrics"
   ]
  },
  {
   "cell_type": "markdown",
   "metadata": {},
   "source": [
    "#### LightGBM"
   ]
  },
  {
   "cell_type": "code",
   "execution_count": 16,
   "metadata": {},
   "outputs": [],
   "source": [
    "start_time = datetime.now()\n",
    "model_lgbm = lgb.LGBMClassifier(random_state = 123)\n",
    "model_lgbm.fit(tf_idf_train, train['toxic'])\n",
    "end_time = datetime.now()\n",
    "duration = end_time - start_time"
   ]
  },
  {
   "cell_type": "code",
   "execution_count": 17,
   "metadata": {},
   "outputs": [],
   "source": [
    "start_time = datetime.now()\n",
    "predictions_lgbm = model_lgbm.predict(tf_idf_test)\n",
    "end_time = datetime.now()\n",
    "duration_pred = end_time - start_time"
   ]
  },
  {
   "cell_type": "code",
   "execution_count": 18,
   "metadata": {},
   "outputs": [],
   "source": [
    "f1_lgbm = (f1_score(test['toxic'], predictions_lgbm)).round(2)"
   ]
  },
  {
   "cell_type": "code",
   "execution_count": 19,
   "metadata": {},
   "outputs": [
    {
     "data": {
      "text/html": [
       "<div>\n",
       "<style scoped>\n",
       "    .dataframe tbody tr th:only-of-type {\n",
       "        vertical-align: middle;\n",
       "    }\n",
       "\n",
       "    .dataframe tbody tr th {\n",
       "        vertical-align: top;\n",
       "    }\n",
       "\n",
       "    .dataframe thead th {\n",
       "        text-align: right;\n",
       "    }\n",
       "</style>\n",
       "<table border=\"1\" class=\"dataframe\">\n",
       "  <thead>\n",
       "    <tr style=\"text-align: right;\">\n",
       "      <th></th>\n",
       "      <th>f1</th>\n",
       "      <th>training_time_sec</th>\n",
       "      <th>predict_time_sec</th>\n",
       "    </tr>\n",
       "  </thead>\n",
       "  <tbody>\n",
       "    <tr>\n",
       "      <th>LogRegression</th>\n",
       "      <td>0.75</td>\n",
       "      <td>00:00:06.437486</td>\n",
       "      <td>00:00:00.012791</td>\n",
       "    </tr>\n",
       "    <tr>\n",
       "      <th>LightGBM</th>\n",
       "      <td>0.77</td>\n",
       "      <td>00:01:24.150410</td>\n",
       "      <td>00:00:00.552524</td>\n",
       "    </tr>\n",
       "  </tbody>\n",
       "</table>\n",
       "</div>"
      ],
      "text/plain": [
       "                 f1 training_time_sec predict_time_sec\n",
       "LogRegression  0.75   00:00:06.437486  00:00:00.012791\n",
       "LightGBM       0.77   00:01:24.150410  00:00:00.552524"
      ]
     },
     "execution_count": 19,
     "metadata": {},
     "output_type": "execute_result"
    }
   ],
   "source": [
    "metrics = metrics.append(pd.DataFrame([[f1_lgbm, duration, duration_pred]], \n",
    "                                      columns = ['f1', 'training_time_sec', 'predict_time_sec'],\n",
    "                                      index = ['LightGBM']))\n",
    "metrics"
   ]
  },
  {
   "cell_type": "markdown",
   "metadata": {},
   "source": [
    "#### CatBoost"
   ]
  },
  {
   "cell_type": "code",
   "execution_count": 20,
   "metadata": {},
   "outputs": [
    {
     "name": "stdout",
     "output_type": "stream",
     "text": [
      "0:\tlearn: 0.3728240\ttotal: 1.69s\tremaining: 28m 5s\n",
      "100:\tlearn: 0.7884383\ttotal: 1m 37s\tremaining: 14m 26s\n",
      "200:\tlearn: 0.8248394\ttotal: 3m 7s\tremaining: 12m 26s\n",
      "300:\tlearn: 0.8431401\ttotal: 4m 49s\tremaining: 11m 12s\n",
      "400:\tlearn: 0.8477013\ttotal: 6m 18s\tremaining: 9m 25s\n",
      "500:\tlearn: 0.8544782\ttotal: 7m 49s\tremaining: 7m 47s\n",
      "600:\tlearn: 0.8634757\ttotal: 9m 20s\tremaining: 6m 12s\n",
      "700:\tlearn: 0.8725737\ttotal: 10m 54s\tremaining: 4m 38s\n",
      "800:\tlearn: 0.8800568\ttotal: 12m 18s\tremaining: 3m 3s\n",
      "900:\tlearn: 0.8899535\ttotal: 13m 38s\tremaining: 1m 29s\n",
      "999:\tlearn: 0.9062093\ttotal: 14m 59s\tremaining: 0us\n"
     ]
    }
   ],
   "source": [
    "start_time = datetime.now()\n",
    "model_cat = CatBoostClassifier(eval_metric = 'F1', verbose=100, learning_rate = 0.4, random_state = 123)\n",
    "model_cat.fit(tf_idf_train, train['toxic'])\n",
    "end_time = datetime.now()\n",
    "duration = end_time - start_time"
   ]
  },
  {
   "cell_type": "code",
   "execution_count": 21,
   "metadata": {},
   "outputs": [],
   "source": [
    "start_time = datetime.now()\n",
    "predictions_cat = model_cat.predict(tf_idf_test)\n",
    "end_time = datetime.now()\n",
    "duration_pred = end_time - start_time"
   ]
  },
  {
   "cell_type": "code",
   "execution_count": 22,
   "metadata": {},
   "outputs": [],
   "source": [
    "f1_CatB = (f1_score(test['toxic'], predictions_cat)).round(2)"
   ]
  },
  {
   "cell_type": "code",
   "execution_count": 23,
   "metadata": {},
   "outputs": [
    {
     "data": {
      "text/html": [
       "<div>\n",
       "<style scoped>\n",
       "    .dataframe tbody tr th:only-of-type {\n",
       "        vertical-align: middle;\n",
       "    }\n",
       "\n",
       "    .dataframe tbody tr th {\n",
       "        vertical-align: top;\n",
       "    }\n",
       "\n",
       "    .dataframe thead th {\n",
       "        text-align: right;\n",
       "    }\n",
       "</style>\n",
       "<table border=\"1\" class=\"dataframe\">\n",
       "  <thead>\n",
       "    <tr style=\"text-align: right;\">\n",
       "      <th></th>\n",
       "      <th>f1</th>\n",
       "      <th>training_time_sec</th>\n",
       "      <th>predict_time_sec</th>\n",
       "    </tr>\n",
       "  </thead>\n",
       "  <tbody>\n",
       "    <tr>\n",
       "      <th>LogRegression</th>\n",
       "      <td>0.75</td>\n",
       "      <td>00:00:06.437486</td>\n",
       "      <td>00:00:00.012791</td>\n",
       "    </tr>\n",
       "    <tr>\n",
       "      <th>LightGBM</th>\n",
       "      <td>0.77</td>\n",
       "      <td>00:01:24.150410</td>\n",
       "      <td>00:00:00.552524</td>\n",
       "    </tr>\n",
       "    <tr>\n",
       "      <th>CatBoost</th>\n",
       "      <td>0.79</td>\n",
       "      <td>00:15:01.120195</td>\n",
       "      <td>00:00:01.330420</td>\n",
       "    </tr>\n",
       "  </tbody>\n",
       "</table>\n",
       "</div>"
      ],
      "text/plain": [
       "                 f1 training_time_sec predict_time_sec\n",
       "LogRegression  0.75   00:00:06.437486  00:00:00.012791\n",
       "LightGBM       0.77   00:01:24.150410  00:00:00.552524\n",
       "CatBoost       0.79   00:15:01.120195  00:00:01.330420"
      ]
     },
     "execution_count": 23,
     "metadata": {},
     "output_type": "execute_result"
    }
   ],
   "source": [
    "metrics = metrics.append(pd.DataFrame([[f1_CatB, duration, duration_pred]], \n",
    "                                      columns = ['f1', 'training_time_sec', 'predict_time_sec'],\n",
    "                                      index = ['CatBoost']))\n",
    "metrics"
   ]
  },
  {
   "cell_type": "markdown",
   "metadata": {},
   "source": [
    "<a id='section3'></a>\n",
    "### 3. Анализ скорости работы и качества моделей"
   ]
  },
  {
   "cell_type": "code",
   "execution_count": 24,
   "metadata": {},
   "outputs": [
    {
     "data": {
      "text/html": [
       "<div>\n",
       "<style scoped>\n",
       "    .dataframe tbody tr th:only-of-type {\n",
       "        vertical-align: middle;\n",
       "    }\n",
       "\n",
       "    .dataframe tbody tr th {\n",
       "        vertical-align: top;\n",
       "    }\n",
       "\n",
       "    .dataframe thead th {\n",
       "        text-align: right;\n",
       "    }\n",
       "</style>\n",
       "<table border=\"1\" class=\"dataframe\">\n",
       "  <thead>\n",
       "    <tr style=\"text-align: right;\">\n",
       "      <th></th>\n",
       "      <th>f1</th>\n",
       "      <th>training_time_sec</th>\n",
       "      <th>predict_time_sec</th>\n",
       "    </tr>\n",
       "  </thead>\n",
       "  <tbody>\n",
       "    <tr>\n",
       "      <th>LogRegression</th>\n",
       "      <td>0.75</td>\n",
       "      <td>00:00:06.437486</td>\n",
       "      <td>00:00:00.012791</td>\n",
       "    </tr>\n",
       "    <tr>\n",
       "      <th>LightGBM</th>\n",
       "      <td>0.77</td>\n",
       "      <td>00:01:24.150410</td>\n",
       "      <td>00:00:00.552524</td>\n",
       "    </tr>\n",
       "    <tr>\n",
       "      <th>CatBoost</th>\n",
       "      <td>0.79</td>\n",
       "      <td>00:15:01.120195</td>\n",
       "      <td>00:00:01.330420</td>\n",
       "    </tr>\n",
       "  </tbody>\n",
       "</table>\n",
       "</div>"
      ],
      "text/plain": [
       "                 f1 training_time_sec predict_time_sec\n",
       "LogRegression  0.75   00:00:06.437486  00:00:00.012791\n",
       "LightGBM       0.77   00:01:24.150410  00:00:00.552524\n",
       "CatBoost       0.79   00:15:01.120195  00:00:01.330420"
      ]
     },
     "execution_count": 24,
     "metadata": {},
     "output_type": "execute_result"
    }
   ],
   "source": [
    "metrics"
   ]
  },
  {
   "cell_type": "markdown",
   "metadata": {},
   "source": [
    "Как видим, лучшее качество у CatBoost, но он медленный. LightGBM быстрее, но с чуть худшим качеством.\\\n",
    "Интересно, что модели справились с данными без параметра \"балансирование классов\".\\\n",
    "Когда вводила этот параметр, качество ухудшалось."
   ]
  },
  {
   "cell_type": "markdown",
   "metadata": {},
   "source": [
    "<a id='section4'></a>\n",
    "### 4. Общий вывод"
   ]
  },
  {
   "cell_type": "markdown",
   "metadata": {},
   "source": [
    "В данной работе мы перевели текстовые данные в векторы (числа):\n",
    "- убрали стоп-слова и лишние символы\n",
    "- токенизировали текст\n",
    "- использовали стемминг (выделение корней слов)\n",
    "- перекодировали все в числа методом tf-idf\n",
    "\n",
    "Затем обучили машину на векторных данных как обычно.\\\n",
    "Несмотря на сильный дисбаланс классов, мы получили лучшее качество на катбусте: f1 = 0.79.\\\n",
    "Однако, при этом, это самый затратный по ресурсам вариант.\\\n",
    "Если ресурсозатратность имеет большое значение, то лучше выбрать LightGBM с f1 = 0.77.\\\n",
    "При загрузке текcтов в нашу модель, она будет предсказывать: токсичный текст или нет."
   ]
  }
 ],
 "metadata": {
  "ExecuteTimeLog": [
   {
    "duration": 1537,
    "start_time": "2021-09-04T10:32:33.297Z"
   },
   {
    "duration": 3,
    "start_time": "2021-09-04T10:32:34.836Z"
   },
   {
    "duration": 761,
    "start_time": "2021-09-04T10:32:34.844Z"
   },
   {
    "duration": 30,
    "start_time": "2021-09-04T10:32:35.607Z"
   },
   {
    "duration": 12,
    "start_time": "2021-09-04T10:32:35.640Z"
   },
   {
    "duration": 135,
    "start_time": "2021-09-04T10:32:35.654Z"
   },
   {
    "duration": 9,
    "start_time": "2021-09-04T10:32:35.794Z"
   },
   {
    "duration": 880,
    "start_time": "2021-09-04T10:32:35.807Z"
   },
   {
    "duration": -544,
    "start_time": "2021-09-04T10:32:37.234Z"
   },
   {
    "duration": -543,
    "start_time": "2021-09-04T10:32:37.235Z"
   },
   {
    "duration": -544,
    "start_time": "2021-09-04T10:32:37.237Z"
   },
   {
    "duration": -544,
    "start_time": "2021-09-04T10:32:37.239Z"
   },
   {
    "duration": -547,
    "start_time": "2021-09-04T10:32:37.245Z"
   },
   {
    "duration": -548,
    "start_time": "2021-09-04T10:32:37.247Z"
   },
   {
    "duration": -548,
    "start_time": "2021-09-04T10:32:37.249Z"
   },
   {
    "duration": -548,
    "start_time": "2021-09-04T10:32:37.250Z"
   },
   {
    "duration": -549,
    "start_time": "2021-09-04T10:32:37.252Z"
   },
   {
    "duration": -549,
    "start_time": "2021-09-04T10:32:37.254Z"
   },
   {
    "duration": -549,
    "start_time": "2021-09-04T10:32:37.255Z"
   },
   {
    "duration": -552,
    "start_time": "2021-09-04T10:32:37.260Z"
   },
   {
    "duration": -553,
    "start_time": "2021-09-04T10:32:37.262Z"
   },
   {
    "duration": -554,
    "start_time": "2021-09-04T10:32:37.263Z"
   },
   {
    "duration": -555,
    "start_time": "2021-09-04T10:32:37.265Z"
   },
   {
    "duration": -556,
    "start_time": "2021-09-04T10:32:37.267Z"
   },
   {
    "duration": -556,
    "start_time": "2021-09-04T10:32:37.268Z"
   },
   {
    "duration": -556,
    "start_time": "2021-09-04T10:32:37.269Z"
   },
   {
    "duration": -557,
    "start_time": "2021-09-04T10:32:37.271Z"
   },
   {
    "duration": -559,
    "start_time": "2021-09-04T10:32:37.273Z"
   },
   {
    "duration": 131,
    "start_time": "2021-09-04T10:33:19.380Z"
   },
   {
    "duration": 21619,
    "start_time": "2021-09-04T10:33:22.988Z"
   },
   {
    "duration": 11,
    "start_time": "2021-09-04T10:33:52.461Z"
   },
   {
    "duration": 355,
    "start_time": "2021-09-04T10:33:54.430Z"
   },
   {
    "duration": 4,
    "start_time": "2021-09-04T10:33:56.749Z"
   },
   {
    "duration": 10,
    "start_time": "2021-09-04T10:36:25.629Z"
   },
   {
    "duration": 7,
    "start_time": "2021-09-04T10:36:26.101Z"
   },
   {
    "duration": 1037,
    "start_time": "2021-09-04T10:37:05.462Z"
   },
   {
    "duration": 966,
    "start_time": "2021-09-04T10:37:11.992Z"
   },
   {
    "duration": 930,
    "start_time": "2021-09-04T10:37:55.718Z"
   },
   {
    "duration": 983,
    "start_time": "2021-09-04T10:38:10.192Z"
   },
   {
    "duration": -546,
    "start_time": "2021-09-04T10:38:11.725Z"
   },
   {
    "duration": 14,
    "start_time": "2021-09-04T10:38:34.422Z"
   },
   {
    "duration": 7,
    "start_time": "2021-09-04T10:38:35.333Z"
   },
   {
    "duration": 408,
    "start_time": "2021-09-04T10:39:10.006Z"
   },
   {
    "duration": 406,
    "start_time": "2021-09-04T10:39:15.245Z"
   },
   {
    "duration": 374,
    "start_time": "2021-09-04T10:39:23.638Z"
   },
   {
    "duration": 416,
    "start_time": "2021-09-04T10:40:13.303Z"
   },
   {
    "duration": 359,
    "start_time": "2021-09-04T10:40:21.910Z"
   },
   {
    "duration": 380,
    "start_time": "2021-09-04T10:40:26.262Z"
   },
   {
    "duration": 203,
    "start_time": "2021-09-04T10:40:34.439Z"
   },
   {
    "duration": 159,
    "start_time": "2021-09-04T10:41:01.006Z"
   },
   {
    "duration": 128,
    "start_time": "2021-09-04T10:41:10.078Z"
   },
   {
    "duration": 380,
    "start_time": "2021-09-04T10:41:37.751Z"
   },
   {
    "duration": 359,
    "start_time": "2021-09-04T10:41:41.671Z"
   },
   {
    "duration": 358,
    "start_time": "2021-09-04T10:41:51.239Z"
   },
   {
    "duration": 141,
    "start_time": "2021-09-04T10:42:29.063Z"
   },
   {
    "duration": 12,
    "start_time": "2021-09-04T10:42:35.335Z"
   },
   {
    "duration": 118,
    "start_time": "2021-09-04T10:42:51.399Z"
   },
   {
    "duration": 1028,
    "start_time": "2021-09-04T10:43:04.703Z"
   },
   {
    "duration": 373,
    "start_time": "2021-09-04T10:44:02.855Z"
   },
   {
    "duration": 15,
    "start_time": "2021-09-04T10:44:15.896Z"
   },
   {
    "duration": 10,
    "start_time": "2021-09-04T10:44:25.144Z"
   },
   {
    "duration": 380,
    "start_time": "2021-09-04T10:44:47.384Z"
   },
   {
    "duration": 112,
    "start_time": "2021-09-04T10:45:55.520Z"
   },
   {
    "duration": 128,
    "start_time": "2021-09-04T10:45:57.984Z"
   },
   {
    "duration": 490,
    "start_time": "2021-09-04T10:46:01.824Z"
   },
   {
    "duration": 127,
    "start_time": "2021-09-04T10:46:13.847Z"
   },
   {
    "duration": 352,
    "start_time": "2021-09-04T10:46:16.488Z"
   },
   {
    "duration": 16,
    "start_time": "2021-09-04T10:46:38.186Z"
   },
   {
    "duration": 7,
    "start_time": "2021-09-04T10:46:43.202Z"
   },
   {
    "duration": 366,
    "start_time": "2021-09-04T10:47:54.952Z"
   },
   {
    "duration": 386,
    "start_time": "2021-09-04T10:48:08.808Z"
   },
   {
    "duration": 173499,
    "start_time": "2021-09-04T10:48:36.407Z"
   },
   {
    "duration": 37312,
    "start_time": "2021-09-04T10:52:44.642Z"
   },
   {
    "duration": 33,
    "start_time": "2021-09-04T10:53:31.522Z"
   },
   {
    "duration": 6,
    "start_time": "2021-09-04T10:53:39.250Z"
   },
   {
    "duration": 9,
    "start_time": "2021-09-04T10:55:21.378Z"
   },
   {
    "duration": 366,
    "start_time": "2021-09-04T10:55:29.210Z"
   },
   {
    "duration": 365,
    "start_time": "2021-09-04T10:56:04.394Z"
   },
   {
    "duration": 390,
    "start_time": "2021-09-04T10:56:09.138Z"
   },
   {
    "duration": 395,
    "start_time": "2021-09-04T10:56:32.787Z"
   },
   {
    "duration": 15,
    "start_time": "2021-09-04T10:57:28.066Z"
   },
   {
    "duration": 8,
    "start_time": "2021-09-04T10:57:30.747Z"
   },
   {
    "duration": 12,
    "start_time": "2021-09-04T10:58:36.011Z"
   },
   {
    "duration": 7,
    "start_time": "2021-09-04T10:58:36.555Z"
   },
   {
    "duration": 1460,
    "start_time": "2021-09-04T11:00:02.250Z"
   },
   {
    "duration": 3,
    "start_time": "2021-09-04T11:00:03.712Z"
   },
   {
    "duration": 703,
    "start_time": "2021-09-04T11:00:03.718Z"
   },
   {
    "duration": 29,
    "start_time": "2021-09-04T11:00:04.424Z"
   },
   {
    "duration": 25,
    "start_time": "2021-09-04T11:00:04.455Z"
   },
   {
    "duration": 104,
    "start_time": "2021-09-04T11:00:04.483Z"
   },
   {
    "duration": 4,
    "start_time": "2021-09-04T11:00:04.589Z"
   },
   {
    "duration": 159702,
    "start_time": "2021-09-04T11:00:04.597Z"
   },
   {
    "duration": 31,
    "start_time": "2021-09-04T11:02:44.301Z"
   },
   {
    "duration": 52,
    "start_time": "2021-09-04T11:02:44.333Z"
   },
   {
    "duration": 9301,
    "start_time": "2021-09-04T11:02:44.388Z"
   },
   {
    "duration": 9726,
    "start_time": "2021-09-04T11:02:53.691Z"
   },
   {
    "duration": 11,
    "start_time": "2021-09-04T11:03:03.419Z"
   },
   {
    "duration": 20,
    "start_time": "2021-09-04T11:03:03.432Z"
   },
   {
    "duration": 37,
    "start_time": "2021-09-04T11:03:03.454Z"
   },
   {
    "duration": 486129,
    "start_time": "2021-09-04T11:03:03.493Z"
   },
   {
    "duration": 4063,
    "start_time": "2021-09-04T11:11:09.624Z"
   },
   {
    "duration": 23,
    "start_time": "2021-09-04T11:11:13.691Z"
   },
   {
    "duration": 12,
    "start_time": "2021-09-04T11:11:13.716Z"
   },
   {
    "duration": 1427,
    "start_time": "2021-09-04T11:13:10.634Z"
   },
   {
    "duration": 3,
    "start_time": "2021-09-04T11:13:12.063Z"
   },
   {
    "duration": 749,
    "start_time": "2021-09-04T11:13:12.079Z"
   },
   {
    "duration": 32,
    "start_time": "2021-09-04T11:13:12.830Z"
   },
   {
    "duration": 17,
    "start_time": "2021-09-04T11:13:12.876Z"
   },
   {
    "duration": 113,
    "start_time": "2021-09-04T11:13:12.899Z"
   },
   {
    "duration": 4,
    "start_time": "2021-09-04T11:13:13.014Z"
   },
   {
    "duration": 172978,
    "start_time": "2021-09-04T11:13:13.021Z"
   },
   {
    "duration": 33,
    "start_time": "2021-09-04T11:16:06.001Z"
   },
   {
    "duration": 59,
    "start_time": "2021-09-04T11:16:06.036Z"
   },
   {
    "duration": 8764,
    "start_time": "2021-09-04T11:16:06.097Z"
   },
   {
    "duration": 9753,
    "start_time": "2021-09-04T11:16:14.863Z"
   },
   {
    "duration": 11,
    "start_time": "2021-09-04T11:16:24.618Z"
   },
   {
    "duration": 22,
    "start_time": "2021-09-04T11:16:24.630Z"
   },
   {
    "duration": 39,
    "start_time": "2021-09-04T11:16:24.654Z"
   },
   {
    "duration": 415387,
    "start_time": "2021-09-04T11:16:24.696Z"
   },
   {
    "duration": 4118,
    "start_time": "2021-09-04T11:23:20.086Z"
   },
   {
    "duration": 21,
    "start_time": "2021-09-04T11:23:24.206Z"
   },
   {
    "duration": 10,
    "start_time": "2021-09-04T11:23:24.229Z"
   },
   {
    "duration": 3300837,
    "start_time": "2021-09-04T11:23:24.241Z"
   },
   {
    "duration": 2737,
    "start_time": "2021-09-04T12:18:25.081Z"
   },
   {
    "duration": 27,
    "start_time": "2021-09-04T12:18:27.820Z"
   },
   {
    "duration": 10,
    "start_time": "2021-09-04T12:18:27.849Z"
   },
   {
    "duration": 10,
    "start_time": "2021-09-04T12:18:27.881Z"
   }
  ],
  "hide_input": false,
  "kernelspec": {
   "display_name": "Python 3",
   "language": "python",
   "name": "python3"
  },
  "language_info": {
   "codemirror_mode": {
    "name": "ipython",
    "version": 3
   },
   "file_extension": ".py",
   "mimetype": "text/x-python",
   "name": "python",
   "nbconvert_exporter": "python",
   "pygments_lexer": "ipython3",
   "version": "3.7.8"
  },
  "toc": {
   "base_numbering": 1,
   "nav_menu": {},
   "number_sections": false,
   "sideBar": true,
   "skip_h1_title": false,
   "title_cell": "Table of Contents",
   "title_sidebar": "Contents",
   "toc_cell": false,
   "toc_position": {},
   "toc_section_display": true,
   "toc_window_display": false
  }
 },
 "nbformat": 4,
 "nbformat_minor": 4
}
